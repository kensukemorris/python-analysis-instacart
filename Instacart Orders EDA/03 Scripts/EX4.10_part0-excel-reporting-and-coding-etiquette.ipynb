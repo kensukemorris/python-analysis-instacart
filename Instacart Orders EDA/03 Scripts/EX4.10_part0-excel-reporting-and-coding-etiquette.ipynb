{
 "cells": [
  {
   "cell_type": "markdown",
   "metadata": {
    "ExecuteTime": {
     "end_time": "2021-07-12T04:31:25.692095Z",
     "start_time": "2021-07-12T04:31:25.679082Z"
    }
   },
   "source": [
    "# Instacart Grocery Basket Analysis"
   ]
  },
  {
   "cell_type": "markdown",
   "metadata": {},
   "source": [
    "### Script Contents"
   ]
  },
  {
   "cell_type": "markdown",
   "metadata": {
    "ExecuteTime": {
     "end_time": "2021-07-12T04:14:50.157495Z",
     "start_time": "2021-07-12T04:14:50.140479Z"
    }
   },
   "source": [
    "Step 1 - Data imports and initial checks <br>\n",
    "Step 2 - Consider security implications  <br>\n",
    "Step 3 - Add geographical regions <br>\n",
    "Step 4 - Remove customers with less than 5 orders <br>\n",
    "Step 5 - Additional customer profiling <br>\n",
    "Step 6 - Customer profile visualization <br>\n",
    "Step 7 - Summary statistics based on uage frequency and expenditure <br>\n",
    "Step 8 - Customer profiles compared to regions and departments <br>\n",
    "Step 9 - Visualizations for step 8 <br>"
   ]
  },
  {
   "cell_type": "markdown",
   "metadata": {},
   "source": [
    "### Step 1 - Data imports and initial checks "
   ]
  },
  {
   "cell_type": "code",
   "execution_count": 1,
   "metadata": {
    "ExecuteTime": {
     "end_time": "2021-07-16T02:39:57.515370Z",
     "start_time": "2021-07-16T02:39:56.314737Z"
    }
   },
   "outputs": [],
   "source": [
    "import pandas as pd\n",
    "import numpy as np\n",
    "import os\n",
    "\n",
    "import seaborn as sns\n",
    "import matplotlib.pyplot as plt\n",
    "import scipy"
   ]
  },
  {
   "cell_type": "code",
   "execution_count": 2,
   "metadata": {
    "ExecuteTime": {
     "end_time": "2021-07-16T02:39:59.626418Z",
     "start_time": "2021-07-16T02:39:59.609403Z"
    }
   },
   "outputs": [],
   "source": [
    "path = r'C:\\Users\\n4\\Desktop\\EX4.10 - Excel Reporting'"
   ]
  },
  {
   "cell_type": "code",
   "execution_count": 4,
   "metadata": {
    "ExecuteTime": {
     "end_time": "2021-07-15T01:32:47.632971Z",
     "start_time": "2021-07-15T01:32:31.548356Z"
    }
   },
   "outputs": [
    {
     "data": {
      "text/html": [
       "<div>\n",
       "<style scoped>\n",
       "    .dataframe tbody tr th:only-of-type {\n",
       "        vertical-align: middle;\n",
       "    }\n",
       "\n",
       "    .dataframe tbody tr th {\n",
       "        vertical-align: top;\n",
       "    }\n",
       "\n",
       "    .dataframe thead th {\n",
       "        text-align: right;\n",
       "    }\n",
       "</style>\n",
       "<table border=\"1\" class=\"dataframe\">\n",
       "  <thead>\n",
       "    <tr style=\"text-align: right;\">\n",
       "      <th></th>\n",
       "      <th>order_id</th>\n",
       "      <th>user_id</th>\n",
       "      <th>order_number</th>\n",
       "      <th>order_dow</th>\n",
       "      <th>order_hour_of_day</th>\n",
       "      <th>days_since_prior_order</th>\n",
       "      <th>product_id</th>\n",
       "      <th>add_to_cart_order</th>\n",
       "      <th>reordered</th>\n",
       "      <th>product_name</th>\n",
       "      <th>...</th>\n",
       "      <th>firstname</th>\n",
       "      <th>surname</th>\n",
       "      <th>gender</th>\n",
       "      <th>state</th>\n",
       "      <th>age</th>\n",
       "      <th>date_joined</th>\n",
       "      <th>n_dependants</th>\n",
       "      <th>fam_status</th>\n",
       "      <th>income</th>\n",
       "      <th>_merge</th>\n",
       "    </tr>\n",
       "  </thead>\n",
       "  <tbody>\n",
       "    <tr>\n",
       "      <th>0</th>\n",
       "      <td>2539329</td>\n",
       "      <td>1</td>\n",
       "      <td>1</td>\n",
       "      <td>2</td>\n",
       "      <td>8</td>\n",
       "      <td>0.0</td>\n",
       "      <td>196</td>\n",
       "      <td>1</td>\n",
       "      <td>0</td>\n",
       "      <td>Soda</td>\n",
       "      <td>...</td>\n",
       "      <td>Linda</td>\n",
       "      <td>Nguyen</td>\n",
       "      <td>Female</td>\n",
       "      <td>Alabama</td>\n",
       "      <td>31</td>\n",
       "      <td>2/17/2019</td>\n",
       "      <td>3</td>\n",
       "      <td>married</td>\n",
       "      <td>40423</td>\n",
       "      <td>both</td>\n",
       "    </tr>\n",
       "    <tr>\n",
       "      <th>1</th>\n",
       "      <td>2398795</td>\n",
       "      <td>1</td>\n",
       "      <td>2</td>\n",
       "      <td>3</td>\n",
       "      <td>7</td>\n",
       "      <td>15.0</td>\n",
       "      <td>196</td>\n",
       "      <td>1</td>\n",
       "      <td>1</td>\n",
       "      <td>Soda</td>\n",
       "      <td>...</td>\n",
       "      <td>Linda</td>\n",
       "      <td>Nguyen</td>\n",
       "      <td>Female</td>\n",
       "      <td>Alabama</td>\n",
       "      <td>31</td>\n",
       "      <td>2/17/2019</td>\n",
       "      <td>3</td>\n",
       "      <td>married</td>\n",
       "      <td>40423</td>\n",
       "      <td>both</td>\n",
       "    </tr>\n",
       "    <tr>\n",
       "      <th>2</th>\n",
       "      <td>473747</td>\n",
       "      <td>1</td>\n",
       "      <td>3</td>\n",
       "      <td>3</td>\n",
       "      <td>12</td>\n",
       "      <td>21.0</td>\n",
       "      <td>196</td>\n",
       "      <td>1</td>\n",
       "      <td>1</td>\n",
       "      <td>Soda</td>\n",
       "      <td>...</td>\n",
       "      <td>Linda</td>\n",
       "      <td>Nguyen</td>\n",
       "      <td>Female</td>\n",
       "      <td>Alabama</td>\n",
       "      <td>31</td>\n",
       "      <td>2/17/2019</td>\n",
       "      <td>3</td>\n",
       "      <td>married</td>\n",
       "      <td>40423</td>\n",
       "      <td>both</td>\n",
       "    </tr>\n",
       "    <tr>\n",
       "      <th>3</th>\n",
       "      <td>2254736</td>\n",
       "      <td>1</td>\n",
       "      <td>4</td>\n",
       "      <td>4</td>\n",
       "      <td>7</td>\n",
       "      <td>29.0</td>\n",
       "      <td>196</td>\n",
       "      <td>1</td>\n",
       "      <td>1</td>\n",
       "      <td>Soda</td>\n",
       "      <td>...</td>\n",
       "      <td>Linda</td>\n",
       "      <td>Nguyen</td>\n",
       "      <td>Female</td>\n",
       "      <td>Alabama</td>\n",
       "      <td>31</td>\n",
       "      <td>2/17/2019</td>\n",
       "      <td>3</td>\n",
       "      <td>married</td>\n",
       "      <td>40423</td>\n",
       "      <td>both</td>\n",
       "    </tr>\n",
       "    <tr>\n",
       "      <th>4</th>\n",
       "      <td>431534</td>\n",
       "      <td>1</td>\n",
       "      <td>5</td>\n",
       "      <td>4</td>\n",
       "      <td>15</td>\n",
       "      <td>28.0</td>\n",
       "      <td>196</td>\n",
       "      <td>1</td>\n",
       "      <td>1</td>\n",
       "      <td>Soda</td>\n",
       "      <td>...</td>\n",
       "      <td>Linda</td>\n",
       "      <td>Nguyen</td>\n",
       "      <td>Female</td>\n",
       "      <td>Alabama</td>\n",
       "      <td>31</td>\n",
       "      <td>2/17/2019</td>\n",
       "      <td>3</td>\n",
       "      <td>married</td>\n",
       "      <td>40423</td>\n",
       "      <td>both</td>\n",
       "    </tr>\n",
       "  </tbody>\n",
       "</table>\n",
       "<p>5 rows × 32 columns</p>\n",
       "</div>"
      ],
      "text/plain": [
       "   order_id user_id  order_number  order_dow  order_hour_of_day  \\\n",
       "0   2539329       1             1          2                  8   \n",
       "1   2398795       1             2          3                  7   \n",
       "2    473747       1             3          3                 12   \n",
       "3   2254736       1             4          4                  7   \n",
       "4    431534       1             5          4                 15   \n",
       "\n",
       "   days_since_prior_order  product_id  add_to_cart_order  reordered  \\\n",
       "0                     0.0         196                  1          0   \n",
       "1                    15.0         196                  1          1   \n",
       "2                    21.0         196                  1          1   \n",
       "3                    29.0         196                  1          1   \n",
       "4                    28.0         196                  1          1   \n",
       "\n",
       "  product_name  ...  firstname  surname  gender    state age date_joined  \\\n",
       "0         Soda  ...      Linda   Nguyen  Female  Alabama  31   2/17/2019   \n",
       "1         Soda  ...      Linda   Nguyen  Female  Alabama  31   2/17/2019   \n",
       "2         Soda  ...      Linda   Nguyen  Female  Alabama  31   2/17/2019   \n",
       "3         Soda  ...      Linda   Nguyen  Female  Alabama  31   2/17/2019   \n",
       "4         Soda  ...      Linda   Nguyen  Female  Alabama  31   2/17/2019   \n",
       "\n",
       "   n_dependants fam_status  income _merge  \n",
       "0             3    married   40423   both  \n",
       "1             3    married   40423   both  \n",
       "2             3    married   40423   both  \n",
       "3             3    married   40423   both  \n",
       "4             3    married   40423   both  \n",
       "\n",
       "[5 rows x 32 columns]"
      ]
     },
     "execution_count": 4,
     "metadata": {},
     "output_type": "execute_result"
    }
   ],
   "source": [
    "df = pd.read_pickle(os.path.join(path,'02 Data','Prepared','cust_ords_prods_merged.pkl'))\n",
    "df.head()"
   ]
  },
  {
   "cell_type": "code",
   "execution_count": 5,
   "metadata": {
    "ExecuteTime": {
     "end_time": "2021-07-15T01:33:11.750370Z",
     "start_time": "2021-07-15T01:33:11.736356Z"
    }
   },
   "outputs": [
    {
     "data": {
      "text/plain": [
       "(32404859, 32)"
      ]
     },
     "execution_count": 5,
     "metadata": {},
     "output_type": "execute_result"
    }
   ],
   "source": [
    "df.shape"
   ]
  },
  {
   "cell_type": "code",
   "execution_count": 7,
   "metadata": {
    "ExecuteTime": {
     "end_time": "2021-07-15T01:37:20.800352Z",
     "start_time": "2021-07-15T01:37:07.006535Z"
    }
   },
   "outputs": [
    {
     "data": {
      "text/plain": [
       "order_id                           0\n",
       "user_id                            0\n",
       "order_number                       0\n",
       "order_dow                          0\n",
       "order_hour_of_day                  0\n",
       "days_since_prior_order             0\n",
       "product_id                         0\n",
       "add_to_cart_order                  0\n",
       "reordered                          0\n",
       "product_name                       0\n",
       "aisle_id                           0\n",
       "department_id                      0\n",
       "prices                          5127\n",
       "price_range_loc                    0\n",
       "busiest_days                       0\n",
       "busiest_period_of_day              0\n",
       "max_order                          0\n",
       "loyalty_flag                       0\n",
       "avg_spend_per_user                 0\n",
       "high_spenders                      0\n",
       "median_days_since_prior_ords       0\n",
       "frequent_user                      0\n",
       "firstname                          0\n",
       "surname                            0\n",
       "gender                             0\n",
       "state                              0\n",
       "age                                0\n",
       "date_joined                        0\n",
       "n_dependants                       0\n",
       "fam_status                         0\n",
       "income                             0\n",
       "_merge                             0\n",
       "dtype: int64"
      ]
     },
     "execution_count": 7,
     "metadata": {},
     "output_type": "execute_result"
    }
   ],
   "source": [
    "# double check for missing values\n",
    "df.isna().sum()\n",
    "\n",
    "# the values below were intentionally imputted as NA during the data consistency check phase to reduce the outlier prices. "
   ]
  },
  {
   "cell_type": "markdown",
   "metadata": {},
   "source": [
    "### Step 2 - Consider security implications"
   ]
  },
  {
   "cell_type": "code",
   "execution_count": 7,
   "metadata": {
    "ExecuteTime": {
     "end_time": "2021-07-14T05:43:08.304482Z",
     "start_time": "2021-07-14T05:43:05.300203Z"
    },
    "scrolled": true
   },
   "outputs": [],
   "source": [
    "df.drop(columns = ['firstname', 'surname','date_joined'], inplace = True)"
   ]
  },
  {
   "cell_type": "code",
   "execution_count": 8,
   "metadata": {
    "ExecuteTime": {
     "end_time": "2021-07-14T05:43:08.319842Z",
     "start_time": "2021-07-14T05:43:08.306833Z"
    }
   },
   "outputs": [
    {
     "data": {
      "text/plain": [
       "Index(['order_id', 'user_id', 'order_number', 'order_dow', 'order_hour_of_day',\n",
       "       'days_since_prior_order', 'product_id', 'add_to_cart_order',\n",
       "       'reordered', 'product_name', 'aisle_id', 'department_id', 'prices',\n",
       "       'price_range_loc', 'busiest_days', 'busiest_period_of_day', 'max_order',\n",
       "       'loyalty_flag', 'avg_spend_per_user', 'high_spenders',\n",
       "       'median_days_since_prior_ords', 'frequent_user', 'gender', 'state',\n",
       "       'age', 'n_dependants', 'fam_status', 'income', '_merge'],\n",
       "      dtype='object')"
      ]
     },
     "execution_count": 8,
     "metadata": {},
     "output_type": "execute_result"
    }
   ],
   "source": [
    "df.columns"
   ]
  },
  {
   "cell_type": "markdown",
   "metadata": {},
   "source": [
    "I dropped columns that can unique identify customers. The \"scrub\" option was chosen since stakeholders cannot be contacted for calrification. \n",
    "\n",
    "Columns that will be scrubbed are firstname, lastname, and datejoined"
   ]
  },
  {
   "cell_type": "markdown",
   "metadata": {},
   "source": [
    "### Step 3 - Add geographical regions"
   ]
  },
  {
   "cell_type": "markdown",
   "metadata": {},
   "source": [
    "#### Step 3a"
   ]
  },
  {
   "cell_type": "code",
   "execution_count": 8,
   "metadata": {
    "ExecuteTime": {
     "end_time": "2021-07-15T01:38:57.140483Z",
     "start_time": "2021-07-15T01:38:55.918708Z"
    },
    "scrolled": true
   },
   "outputs": [
    {
     "data": {
      "text/plain": [
       "array(['Alabama', 'Indiana', 'Louisiana', 'Montana', 'Oklahoma',\n",
       "       'Tennessee', 'Iowa', 'Ohio', 'Virginia', 'Connecticut', 'Kentucky',\n",
       "       'Oregon', 'South Dakota', 'Michigan', 'New Jersey', 'Arizona',\n",
       "       'Maine', 'Hawaii', 'Minnesota', 'Illinois', 'Idaho', 'Kansas',\n",
       "       'North Carolina', 'Vermont', 'Alaska', 'Delaware', 'Maryland',\n",
       "       'Nebraska', 'Nevada', 'Arkansas', 'Georgia',\n",
       "       'District of Columbia', 'Utah', 'Colorado', 'Florida',\n",
       "       'South Carolina', 'Rhode Island', 'Washington', 'California',\n",
       "       'Mississippi', 'Texas', 'New Mexico', 'Missouri', 'Wyoming',\n",
       "       'New Hampshire', 'Massachusetts', 'Pennsylvania', 'Wisconsin',\n",
       "       'West Virginia', 'North Dakota', 'New York'], dtype=object)"
      ]
     },
     "execution_count": 8,
     "metadata": {},
     "output_type": "execute_result"
    }
   ],
   "source": [
    "df['state'].unique()"
   ]
  },
  {
   "cell_type": "code",
   "execution_count": 9,
   "metadata": {
    "ExecuteTime": {
     "end_time": "2021-07-15T01:39:20.827329Z",
     "start_time": "2021-07-15T01:39:20.796301Z"
    },
    "scrolled": true
   },
   "outputs": [
    {
     "data": {
      "text/html": [
       "<div>\n",
       "<style scoped>\n",
       "    .dataframe tbody tr th:only-of-type {\n",
       "        vertical-align: middle;\n",
       "    }\n",
       "\n",
       "    .dataframe tbody tr th {\n",
       "        vertical-align: top;\n",
       "    }\n",
       "\n",
       "    .dataframe thead th {\n",
       "        text-align: right;\n",
       "    }\n",
       "</style>\n",
       "<table border=\"1\" class=\"dataframe\">\n",
       "  <thead>\n",
       "    <tr style=\"text-align: right;\">\n",
       "      <th></th>\n",
       "      <th>State</th>\n",
       "      <th>Region</th>\n",
       "    </tr>\n",
       "  </thead>\n",
       "  <tbody>\n",
       "    <tr>\n",
       "      <th>28</th>\n",
       "      <td>North Dakota</td>\n",
       "      <td>Midwest</td>\n",
       "    </tr>\n",
       "    <tr>\n",
       "      <th>35</th>\n",
       "      <td>Ohio</td>\n",
       "      <td>Midwest</td>\n",
       "    </tr>\n",
       "    <tr>\n",
       "      <th>15</th>\n",
       "      <td>Indiana</td>\n",
       "      <td>Midwest</td>\n",
       "    </tr>\n",
       "    <tr>\n",
       "      <th>48</th>\n",
       "      <td>Wisconsin</td>\n",
       "      <td>Midwest</td>\n",
       "    </tr>\n",
       "    <tr>\n",
       "      <th>41</th>\n",
       "      <td>South Dakota</td>\n",
       "      <td>Midwest</td>\n",
       "    </tr>\n",
       "    <tr>\n",
       "      <th>14</th>\n",
       "      <td>Illinois</td>\n",
       "      <td>Midwest</td>\n",
       "    </tr>\n",
       "    <tr>\n",
       "      <th>29</th>\n",
       "      <td>Nebraska</td>\n",
       "      <td>Midwest</td>\n",
       "    </tr>\n",
       "    <tr>\n",
       "      <th>16</th>\n",
       "      <td>Kansas</td>\n",
       "      <td>Midwest</td>\n",
       "    </tr>\n",
       "    <tr>\n",
       "      <th>24</th>\n",
       "      <td>Missouri</td>\n",
       "      <td>Midwest</td>\n",
       "    </tr>\n",
       "    <tr>\n",
       "      <th>23</th>\n",
       "      <td>Minnesota</td>\n",
       "      <td>Midwest</td>\n",
       "    </tr>\n",
       "    <tr>\n",
       "      <th>22</th>\n",
       "      <td>Michigan</td>\n",
       "      <td>Midwest</td>\n",
       "    </tr>\n",
       "    <tr>\n",
       "      <th>12</th>\n",
       "      <td>Iowa</td>\n",
       "      <td>Midwest</td>\n",
       "    </tr>\n",
       "    <tr>\n",
       "      <th>21</th>\n",
       "      <td>Maine</td>\n",
       "      <td>Northeast</td>\n",
       "    </tr>\n",
       "    <tr>\n",
       "      <th>19</th>\n",
       "      <td>Massachusetts</td>\n",
       "      <td>Northeast</td>\n",
       "    </tr>\n",
       "    <tr>\n",
       "      <th>31</th>\n",
       "      <td>New Jersey</td>\n",
       "      <td>Northeast</td>\n",
       "    </tr>\n",
       "    <tr>\n",
       "      <th>34</th>\n",
       "      <td>New York</td>\n",
       "      <td>Northeast</td>\n",
       "    </tr>\n",
       "    <tr>\n",
       "      <th>30</th>\n",
       "      <td>New Hampshire</td>\n",
       "      <td>Northeast</td>\n",
       "    </tr>\n",
       "    <tr>\n",
       "      <th>38</th>\n",
       "      <td>Pennsylvania</td>\n",
       "      <td>Northeast</td>\n",
       "    </tr>\n",
       "    <tr>\n",
       "      <th>39</th>\n",
       "      <td>Rhode Island</td>\n",
       "      <td>Northeast</td>\n",
       "    </tr>\n",
       "    <tr>\n",
       "      <th>46</th>\n",
       "      <td>Vermont</td>\n",
       "      <td>Northeast</td>\n",
       "    </tr>\n",
       "    <tr>\n",
       "      <th>6</th>\n",
       "      <td>Connecticut</td>\n",
       "      <td>Northeast</td>\n",
       "    </tr>\n",
       "    <tr>\n",
       "      <th>17</th>\n",
       "      <td>Kentucky</td>\n",
       "      <td>South</td>\n",
       "    </tr>\n",
       "    <tr>\n",
       "      <th>40</th>\n",
       "      <td>South Carolina</td>\n",
       "      <td>South</td>\n",
       "    </tr>\n",
       "    <tr>\n",
       "      <th>36</th>\n",
       "      <td>Oklahoma</td>\n",
       "      <td>South</td>\n",
       "    </tr>\n",
       "    <tr>\n",
       "      <th>1</th>\n",
       "      <td>Alabama</td>\n",
       "      <td>South</td>\n",
       "    </tr>\n",
       "    <tr>\n",
       "      <th>2</th>\n",
       "      <td>Arkansas</td>\n",
       "      <td>South</td>\n",
       "    </tr>\n",
       "    <tr>\n",
       "      <th>42</th>\n",
       "      <td>Tennessee</td>\n",
       "      <td>South</td>\n",
       "    </tr>\n",
       "    <tr>\n",
       "      <th>18</th>\n",
       "      <td>Louisiana</td>\n",
       "      <td>South</td>\n",
       "    </tr>\n",
       "    <tr>\n",
       "      <th>7</th>\n",
       "      <td>District of Columbia</td>\n",
       "      <td>South</td>\n",
       "    </tr>\n",
       "    <tr>\n",
       "      <th>27</th>\n",
       "      <td>North Carolina</td>\n",
       "      <td>South</td>\n",
       "    </tr>\n",
       "    <tr>\n",
       "      <th>43</th>\n",
       "      <td>Texas</td>\n",
       "      <td>South</td>\n",
       "    </tr>\n",
       "    <tr>\n",
       "      <th>49</th>\n",
       "      <td>West Virginia</td>\n",
       "      <td>South</td>\n",
       "    </tr>\n",
       "    <tr>\n",
       "      <th>9</th>\n",
       "      <td>Florida</td>\n",
       "      <td>South</td>\n",
       "    </tr>\n",
       "    <tr>\n",
       "      <th>10</th>\n",
       "      <td>Georgia</td>\n",
       "      <td>South</td>\n",
       "    </tr>\n",
       "    <tr>\n",
       "      <th>45</th>\n",
       "      <td>Virginia</td>\n",
       "      <td>South</td>\n",
       "    </tr>\n",
       "    <tr>\n",
       "      <th>20</th>\n",
       "      <td>Maryland</td>\n",
       "      <td>South</td>\n",
       "    </tr>\n",
       "    <tr>\n",
       "      <th>8</th>\n",
       "      <td>Delaware</td>\n",
       "      <td>South</td>\n",
       "    </tr>\n",
       "    <tr>\n",
       "      <th>25</th>\n",
       "      <td>Mississippi</td>\n",
       "      <td>South</td>\n",
       "    </tr>\n",
       "    <tr>\n",
       "      <th>47</th>\n",
       "      <td>Washington</td>\n",
       "      <td>West</td>\n",
       "    </tr>\n",
       "    <tr>\n",
       "      <th>44</th>\n",
       "      <td>Utah</td>\n",
       "      <td>West</td>\n",
       "    </tr>\n",
       "    <tr>\n",
       "      <th>0</th>\n",
       "      <td>Alaska</td>\n",
       "      <td>West</td>\n",
       "    </tr>\n",
       "    <tr>\n",
       "      <th>33</th>\n",
       "      <td>Nevada</td>\n",
       "      <td>West</td>\n",
       "    </tr>\n",
       "    <tr>\n",
       "      <th>32</th>\n",
       "      <td>New Mexico</td>\n",
       "      <td>West</td>\n",
       "    </tr>\n",
       "    <tr>\n",
       "      <th>26</th>\n",
       "      <td>Montana</td>\n",
       "      <td>West</td>\n",
       "    </tr>\n",
       "    <tr>\n",
       "      <th>13</th>\n",
       "      <td>Idaho</td>\n",
       "      <td>West</td>\n",
       "    </tr>\n",
       "    <tr>\n",
       "      <th>11</th>\n",
       "      <td>Hawaii</td>\n",
       "      <td>West</td>\n",
       "    </tr>\n",
       "    <tr>\n",
       "      <th>5</th>\n",
       "      <td>Colorado</td>\n",
       "      <td>West</td>\n",
       "    </tr>\n",
       "    <tr>\n",
       "      <th>4</th>\n",
       "      <td>California</td>\n",
       "      <td>West</td>\n",
       "    </tr>\n",
       "    <tr>\n",
       "      <th>3</th>\n",
       "      <td>Arizona</td>\n",
       "      <td>West</td>\n",
       "    </tr>\n",
       "    <tr>\n",
       "      <th>37</th>\n",
       "      <td>Oregon</td>\n",
       "      <td>West</td>\n",
       "    </tr>\n",
       "    <tr>\n",
       "      <th>50</th>\n",
       "      <td>Wyoming</td>\n",
       "      <td>West</td>\n",
       "    </tr>\n",
       "  </tbody>\n",
       "</table>\n",
       "</div>"
      ],
      "text/plain": [
       "                   State     Region\n",
       "28          North Dakota    Midwest\n",
       "35                  Ohio    Midwest\n",
       "15               Indiana    Midwest\n",
       "48             Wisconsin    Midwest\n",
       "41          South Dakota    Midwest\n",
       "14              Illinois    Midwest\n",
       "29              Nebraska    Midwest\n",
       "16                Kansas    Midwest\n",
       "24              Missouri    Midwest\n",
       "23             Minnesota    Midwest\n",
       "22              Michigan    Midwest\n",
       "12                  Iowa    Midwest\n",
       "21                 Maine  Northeast\n",
       "19         Massachusetts  Northeast\n",
       "31            New Jersey  Northeast\n",
       "34              New York  Northeast\n",
       "30         New Hampshire  Northeast\n",
       "38          Pennsylvania  Northeast\n",
       "39          Rhode Island  Northeast\n",
       "46               Vermont  Northeast\n",
       "6            Connecticut  Northeast\n",
       "17              Kentucky      South\n",
       "40        South Carolina      South\n",
       "36              Oklahoma      South\n",
       "1                Alabama      South\n",
       "2               Arkansas      South\n",
       "42             Tennessee      South\n",
       "18             Louisiana      South\n",
       "7   District of Columbia      South\n",
       "27        North Carolina      South\n",
       "43                 Texas      South\n",
       "49         West Virginia      South\n",
       "9                Florida      South\n",
       "10               Georgia      South\n",
       "45              Virginia      South\n",
       "20              Maryland      South\n",
       "8               Delaware      South\n",
       "25           Mississippi      South\n",
       "47            Washington       West\n",
       "44                  Utah       West\n",
       "0                 Alaska       West\n",
       "33                Nevada       West\n",
       "32            New Mexico       West\n",
       "26               Montana       West\n",
       "13                 Idaho       West\n",
       "11                Hawaii       West\n",
       "5               Colorado       West\n",
       "4             California       West\n",
       "3                Arizona       West\n",
       "37                Oregon       West\n",
       "50               Wyoming       West"
      ]
     },
     "execution_count": 9,
     "metadata": {},
     "output_type": "execute_result"
    }
   ],
   "source": [
    "# Data source: Kaggle.com - https://www.kaggle.com/omer2040/usa-states-to-region\n",
    "# Double-checked using wikipedia.org - https://simple.wikipedia.org/wiki/List_of_regions_of_the_United_States\n",
    "\n",
    "cols = ['State','Region']\n",
    "\n",
    "df_region = pd.read_csv(os.path.join(path, '02 Data','Original','states.csv'), usecols = cols)\n",
    "\n",
    "df_region.sort_values(by = 'Region')"
   ]
  },
  {
   "cell_type": "code",
   "execution_count": 10,
   "metadata": {
    "ExecuteTime": {
     "end_time": "2021-07-15T01:39:44.781191Z",
     "start_time": "2021-07-15T01:39:44.767178Z"
    },
    "scrolled": true
   },
   "outputs": [
    {
     "data": {
      "text/html": [
       "<div>\n",
       "<style scoped>\n",
       "    .dataframe tbody tr th:only-of-type {\n",
       "        vertical-align: middle;\n",
       "    }\n",
       "\n",
       "    .dataframe tbody tr th {\n",
       "        vertical-align: top;\n",
       "    }\n",
       "\n",
       "    .dataframe thead th {\n",
       "        text-align: right;\n",
       "    }\n",
       "</style>\n",
       "<table border=\"1\" class=\"dataframe\">\n",
       "  <thead>\n",
       "    <tr style=\"text-align: right;\">\n",
       "      <th></th>\n",
       "      <th>state</th>\n",
       "      <th>region</th>\n",
       "    </tr>\n",
       "  </thead>\n",
       "  <tbody>\n",
       "    <tr>\n",
       "      <th>0</th>\n",
       "      <td>Alaska</td>\n",
       "      <td>West</td>\n",
       "    </tr>\n",
       "    <tr>\n",
       "      <th>1</th>\n",
       "      <td>Alabama</td>\n",
       "      <td>South</td>\n",
       "    </tr>\n",
       "  </tbody>\n",
       "</table>\n",
       "</div>"
      ],
      "text/plain": [
       "     state region\n",
       "0   Alaska   West\n",
       "1  Alabama  South"
      ]
     },
     "execution_count": 10,
     "metadata": {},
     "output_type": "execute_result"
    }
   ],
   "source": [
    "# Rename columns for upcoming merge\n",
    "\n",
    "df_region.rename(columns = {'State':'state','Region':'region'}, inplace = True)\n",
    "\n",
    "df_region.head(2)"
   ]
  },
  {
   "cell_type": "code",
   "execution_count": 11,
   "metadata": {
    "ExecuteTime": {
     "end_time": "2021-07-15T01:40:12.080184Z",
     "start_time": "2021-07-15T01:40:08.060959Z"
    }
   },
   "outputs": [
    {
     "data": {
      "text/plain": [
       "Index(['order_id', 'user_id', 'order_number', 'order_dow', 'order_hour_of_day',\n",
       "       'days_since_prior_order', 'product_id', 'add_to_cart_order',\n",
       "       'reordered', 'product_name', 'aisle_id', 'department_id', 'prices',\n",
       "       'price_range_loc', 'busiest_days', 'busiest_period_of_day', 'max_order',\n",
       "       'loyalty_flag', 'avg_spend_per_user', 'high_spenders',\n",
       "       'median_days_since_prior_ords', 'frequent_user', 'firstname', 'surname',\n",
       "       'gender', 'state', 'age', 'date_joined', 'n_dependants', 'fam_status',\n",
       "       'income'],\n",
       "      dtype='object')"
      ]
     },
     "execution_count": 11,
     "metadata": {},
     "output_type": "execute_result"
    }
   ],
   "source": [
    "#Drop previous merge indicator column\n",
    "\n",
    "df = df.drop(columns = ['_merge'])\n",
    "\n",
    "df.columns"
   ]
  },
  {
   "cell_type": "code",
   "execution_count": 12,
   "metadata": {
    "ExecuteTime": {
     "end_time": "2021-07-15T01:42:37.890423Z",
     "start_time": "2021-07-15T01:41:27.018633Z"
    }
   },
   "outputs": [
    {
     "data": {
      "text/html": [
       "<div>\n",
       "<style scoped>\n",
       "    .dataframe tbody tr th:only-of-type {\n",
       "        vertical-align: middle;\n",
       "    }\n",
       "\n",
       "    .dataframe tbody tr th {\n",
       "        vertical-align: top;\n",
       "    }\n",
       "\n",
       "    .dataframe thead th {\n",
       "        text-align: right;\n",
       "    }\n",
       "</style>\n",
       "<table border=\"1\" class=\"dataframe\">\n",
       "  <thead>\n",
       "    <tr style=\"text-align: right;\">\n",
       "      <th></th>\n",
       "      <th>order_id</th>\n",
       "      <th>user_id</th>\n",
       "      <th>order_number</th>\n",
       "      <th>order_dow</th>\n",
       "      <th>order_hour_of_day</th>\n",
       "      <th>days_since_prior_order</th>\n",
       "      <th>product_id</th>\n",
       "      <th>add_to_cart_order</th>\n",
       "      <th>reordered</th>\n",
       "      <th>product_name</th>\n",
       "      <th>...</th>\n",
       "      <th>surname</th>\n",
       "      <th>gender</th>\n",
       "      <th>state</th>\n",
       "      <th>age</th>\n",
       "      <th>date_joined</th>\n",
       "      <th>n_dependants</th>\n",
       "      <th>fam_status</th>\n",
       "      <th>income</th>\n",
       "      <th>region</th>\n",
       "      <th>_merge</th>\n",
       "    </tr>\n",
       "  </thead>\n",
       "  <tbody>\n",
       "    <tr>\n",
       "      <th>0</th>\n",
       "      <td>2539329</td>\n",
       "      <td>1</td>\n",
       "      <td>1</td>\n",
       "      <td>2</td>\n",
       "      <td>8</td>\n",
       "      <td>0.0</td>\n",
       "      <td>196</td>\n",
       "      <td>1</td>\n",
       "      <td>0</td>\n",
       "      <td>Soda</td>\n",
       "      <td>...</td>\n",
       "      <td>Nguyen</td>\n",
       "      <td>Female</td>\n",
       "      <td>Alabama</td>\n",
       "      <td>31</td>\n",
       "      <td>2/17/2019</td>\n",
       "      <td>3</td>\n",
       "      <td>married</td>\n",
       "      <td>40423</td>\n",
       "      <td>South</td>\n",
       "      <td>both</td>\n",
       "    </tr>\n",
       "    <tr>\n",
       "      <th>1</th>\n",
       "      <td>2398795</td>\n",
       "      <td>1</td>\n",
       "      <td>2</td>\n",
       "      <td>3</td>\n",
       "      <td>7</td>\n",
       "      <td>15.0</td>\n",
       "      <td>196</td>\n",
       "      <td>1</td>\n",
       "      <td>1</td>\n",
       "      <td>Soda</td>\n",
       "      <td>...</td>\n",
       "      <td>Nguyen</td>\n",
       "      <td>Female</td>\n",
       "      <td>Alabama</td>\n",
       "      <td>31</td>\n",
       "      <td>2/17/2019</td>\n",
       "      <td>3</td>\n",
       "      <td>married</td>\n",
       "      <td>40423</td>\n",
       "      <td>South</td>\n",
       "      <td>both</td>\n",
       "    </tr>\n",
       "  </tbody>\n",
       "</table>\n",
       "<p>2 rows × 33 columns</p>\n",
       "</div>"
      ],
      "text/plain": [
       "   order_id user_id  order_number  order_dow  order_hour_of_day  \\\n",
       "0   2539329       1             1          2                  8   \n",
       "1   2398795       1             2          3                  7   \n",
       "\n",
       "   days_since_prior_order  product_id  add_to_cart_order  reordered  \\\n",
       "0                     0.0         196                  1          0   \n",
       "1                    15.0         196                  1          1   \n",
       "\n",
       "  product_name  ...  surname  gender    state age date_joined n_dependants  \\\n",
       "0         Soda  ...   Nguyen  Female  Alabama  31   2/17/2019            3   \n",
       "1         Soda  ...   Nguyen  Female  Alabama  31   2/17/2019            3   \n",
       "\n",
       "   fam_status income  region _merge  \n",
       "0     married  40423   South   both  \n",
       "1     married  40423   South   both  \n",
       "\n",
       "[2 rows x 33 columns]"
      ]
     },
     "execution_count": 12,
     "metadata": {},
     "output_type": "execute_result"
    }
   ],
   "source": [
    "# merge regional dataset and customer order dataset\n",
    "df_merged = df.merge(df_region, on = 'state', how = 'inner', indicator = True)\n",
    "\n",
    "df_merged.head(2)"
   ]
  },
  {
   "cell_type": "code",
   "execution_count": 13,
   "metadata": {
    "ExecuteTime": {
     "end_time": "2021-07-15T01:43:28.858712Z",
     "start_time": "2021-07-15T01:43:28.702571Z"
    }
   },
   "outputs": [
    {
     "data": {
      "text/plain": [
       "both          32404859\n",
       "right_only           0\n",
       "left_only            0\n",
       "Name: _merge, dtype: int64"
      ]
     },
     "execution_count": 13,
     "metadata": {},
     "output_type": "execute_result"
    }
   ],
   "source": [
    "df_merged['_merge'].value_counts(dropna = False)"
   ]
  },
  {
   "cell_type": "code",
   "execution_count": 14,
   "metadata": {
    "ExecuteTime": {
     "end_time": "2021-07-15T01:44:19.279802Z",
     "start_time": "2021-07-15T01:44:19.264788Z"
    },
    "scrolled": true
   },
   "outputs": [
    {
     "data": {
      "text/plain": [
       "(32404859, 33)"
      ]
     },
     "execution_count": 14,
     "metadata": {},
     "output_type": "execute_result"
    }
   ],
   "source": [
    "df_merged.shape"
   ]
  },
  {
   "cell_type": "markdown",
   "metadata": {},
   "source": [
    "#### Step 3b"
   ]
  },
  {
   "cell_type": "code",
   "execution_count": null,
   "metadata": {
    "ExecuteTime": {
     "end_time": "2021-07-16T08:07:13.569012Z",
     "start_time": "2021-07-16T08:07:13.559003Z"
    },
    "scrolled": true
   },
   "outputs": [],
   "source": [
    "crosstab = pd.crosstab(df_merged['region'], df_merged['high_spenders'], dropna = False)"
   ]
  },
  {
   "cell_type": "code",
   "execution_count": 16,
   "metadata": {
    "ExecuteTime": {
     "end_time": "2021-07-15T01:55:49.314711Z",
     "start_time": "2021-07-15T01:55:49.300458Z"
    },
    "scrolled": false
   },
   "outputs": [
    {
     "data": {
      "text/html": [
       "<div>\n",
       "<style scoped>\n",
       "    .dataframe tbody tr th:only-of-type {\n",
       "        vertical-align: middle;\n",
       "    }\n",
       "\n",
       "    .dataframe tbody tr th {\n",
       "        vertical-align: top;\n",
       "    }\n",
       "\n",
       "    .dataframe thead th {\n",
       "        text-align: right;\n",
       "    }\n",
       "</style>\n",
       "<table border=\"1\" class=\"dataframe\">\n",
       "  <thead>\n",
       "    <tr style=\"text-align: right;\">\n",
       "      <th>high_spenders</th>\n",
       "      <th>High spender</th>\n",
       "      <th>Low spender</th>\n",
       "    </tr>\n",
       "    <tr>\n",
       "      <th>region</th>\n",
       "      <th></th>\n",
       "      <th></th>\n",
       "    </tr>\n",
       "  </thead>\n",
       "  <tbody>\n",
       "    <tr>\n",
       "      <th>Midwest</th>\n",
       "      <td>155946</td>\n",
       "      <td>7441379</td>\n",
       "    </tr>\n",
       "    <tr>\n",
       "      <th>Northeast</th>\n",
       "      <td>108218</td>\n",
       "      <td>5614518</td>\n",
       "    </tr>\n",
       "    <tr>\n",
       "      <th>South</th>\n",
       "      <td>209637</td>\n",
       "      <td>10582248</td>\n",
       "    </tr>\n",
       "    <tr>\n",
       "      <th>West</th>\n",
       "      <td>160316</td>\n",
       "      <td>8132597</td>\n",
       "    </tr>\n",
       "  </tbody>\n",
       "</table>\n",
       "</div>"
      ],
      "text/plain": [
       "high_spenders  High spender  Low spender\n",
       "region                                  \n",
       "Midwest              155946      7441379\n",
       "Northeast            108218      5614518\n",
       "South                209637     10582248\n",
       "West                 160316      8132597"
      ]
     },
     "execution_count": 16,
     "metadata": {},
     "output_type": "execute_result"
    }
   ],
   "source": [
    "crosstab"
   ]
  },
  {
   "cell_type": "code",
   "execution_count": 17,
   "metadata": {
    "ExecuteTime": {
     "end_time": "2021-07-15T01:56:39.262375Z",
     "start_time": "2021-07-15T01:56:39.104712Z"
    }
   },
   "outputs": [
    {
     "data": {
      "text/plain": [
       "<AxesSubplot:xlabel='region'>"
      ]
     },
     "execution_count": 17,
     "metadata": {},
     "output_type": "execute_result"
    },
    {
     "data": {
      "image/png": "[encoded data removed]",
      "text/plain": [
       "<Figure size 432x288 with 1 Axes>"
      ]
     },
     "metadata": {
      "needs_background": "light"
     },
     "output_type": "display_data"
    }
   ],
   "source": [
    "crosstab.plot.bar(rot = 0)"
   ]
  },
  {
   "cell_type": "markdown",
   "metadata": {},
   "source": [
    "The south region has the largest numbers of low spenders, followed by the west region. "
   ]
  },
  {
   "cell_type": "markdown",
   "metadata": {},
   "source": [
    "### Step 4 - Remove customers with less than 5 orders"
   ]
  },
  {
   "cell_type": "code",
   "execution_count": 18,
   "metadata": {
    "ExecuteTime": {
     "end_time": "2021-07-15T01:57:39.670082Z",
     "start_time": "2021-07-15T01:57:36.154399Z"
    },
    "scrolled": true
   },
   "outputs": [
    {
     "data": {
      "text/plain": [
       "5     1626901\n",
       "6     1470894\n",
       "7     1332635\n",
       "8     1218047\n",
       "9     1119491\n",
       "       ...   \n",
       "95      14516\n",
       "96      13737\n",
       "97      13356\n",
       "98      12851\n",
       "99      12421\n",
       "Name: order_number, Length: 95, dtype: int64"
      ]
     },
     "execution_count": 18,
     "metadata": {},
     "output_type": "execute_result"
    }
   ],
   "source": [
    "df_merged_s4 = df_merged.loc[df_merged['order_number'] >= 5]\n",
    "\n",
    "df_merged_s4['order_number'].value_counts(dropna = False)"
   ]
  },
  {
   "cell_type": "code",
   "execution_count": 19,
   "metadata": {
    "ExecuteTime": {
     "end_time": "2021-07-15T01:58:48.464537Z",
     "start_time": "2021-07-15T01:58:48.449762Z"
    }
   },
   "outputs": [
    {
     "data": {
      "text/plain": [
       "(24414877, 33)"
      ]
     },
     "execution_count": 19,
     "metadata": {},
     "output_type": "execute_result"
    }
   ],
   "source": [
    "df_merged_s4.shape"
   ]
  },
  {
   "cell_type": "code",
   "execution_count": 20,
   "metadata": {
    "ExecuteTime": {
     "end_time": "2021-07-15T02:00:16.848689Z",
     "start_time": "2021-07-15T01:59:56.073839Z"
    }
   },
   "outputs": [],
   "source": [
    "df_merged_s4.to_pickle(os.path.join(path,'02 Data', 'Prepared','cus_ords_over_5.pkl'))"
   ]
  },
  {
   "cell_type": "markdown",
   "metadata": {},
   "source": [
    "### Step 5 - Additional customer profiling"
   ]
  },
  {
   "cell_type": "code",
   "execution_count": 21,
   "metadata": {
    "ExecuteTime": {
     "end_time": "2021-07-15T02:01:25.454684Z",
     "start_time": "2021-07-15T02:01:25.439670Z"
    },
    "scrolled": false
   },
   "outputs": [
    {
     "data": {
      "text/html": [
       "<div>\n",
       "<style scoped>\n",
       "    .dataframe tbody tr th:only-of-type {\n",
       "        vertical-align: middle;\n",
       "    }\n",
       "\n",
       "    .dataframe tbody tr th {\n",
       "        vertical-align: top;\n",
       "    }\n",
       "\n",
       "    .dataframe thead th {\n",
       "        text-align: right;\n",
       "    }\n",
       "</style>\n",
       "<table border=\"1\" class=\"dataframe\">\n",
       "  <thead>\n",
       "    <tr style=\"text-align: right;\">\n",
       "      <th></th>\n",
       "      <th>department_id</th>\n",
       "      <th>department</th>\n",
       "    </tr>\n",
       "  </thead>\n",
       "  <tbody>\n",
       "    <tr>\n",
       "      <th>0</th>\n",
       "      <td>1</td>\n",
       "      <td>frozen</td>\n",
       "    </tr>\n",
       "    <tr>\n",
       "      <th>1</th>\n",
       "      <td>2</td>\n",
       "      <td>other</td>\n",
       "    </tr>\n",
       "    <tr>\n",
       "      <th>2</th>\n",
       "      <td>3</td>\n",
       "      <td>bakery</td>\n",
       "    </tr>\n",
       "    <tr>\n",
       "      <th>3</th>\n",
       "      <td>4</td>\n",
       "      <td>produce</td>\n",
       "    </tr>\n",
       "    <tr>\n",
       "      <th>4</th>\n",
       "      <td>5</td>\n",
       "      <td>alcohol</td>\n",
       "    </tr>\n",
       "    <tr>\n",
       "      <th>5</th>\n",
       "      <td>6</td>\n",
       "      <td>international</td>\n",
       "    </tr>\n",
       "    <tr>\n",
       "      <th>6</th>\n",
       "      <td>7</td>\n",
       "      <td>beverages</td>\n",
       "    </tr>\n",
       "    <tr>\n",
       "      <th>7</th>\n",
       "      <td>8</td>\n",
       "      <td>pets</td>\n",
       "    </tr>\n",
       "    <tr>\n",
       "      <th>8</th>\n",
       "      <td>9</td>\n",
       "      <td>dry goods pasta</td>\n",
       "    </tr>\n",
       "    <tr>\n",
       "      <th>9</th>\n",
       "      <td>10</td>\n",
       "      <td>bulk</td>\n",
       "    </tr>\n",
       "    <tr>\n",
       "      <th>10</th>\n",
       "      <td>11</td>\n",
       "      <td>personal care</td>\n",
       "    </tr>\n",
       "    <tr>\n",
       "      <th>11</th>\n",
       "      <td>12</td>\n",
       "      <td>meat seafood</td>\n",
       "    </tr>\n",
       "    <tr>\n",
       "      <th>12</th>\n",
       "      <td>13</td>\n",
       "      <td>pantry</td>\n",
       "    </tr>\n",
       "    <tr>\n",
       "      <th>13</th>\n",
       "      <td>14</td>\n",
       "      <td>breakfast</td>\n",
       "    </tr>\n",
       "    <tr>\n",
       "      <th>14</th>\n",
       "      <td>15</td>\n",
       "      <td>canned goods</td>\n",
       "    </tr>\n",
       "    <tr>\n",
       "      <th>15</th>\n",
       "      <td>16</td>\n",
       "      <td>dairy eggs</td>\n",
       "    </tr>\n",
       "    <tr>\n",
       "      <th>16</th>\n",
       "      <td>17</td>\n",
       "      <td>household</td>\n",
       "    </tr>\n",
       "    <tr>\n",
       "      <th>17</th>\n",
       "      <td>18</td>\n",
       "      <td>babies</td>\n",
       "    </tr>\n",
       "    <tr>\n",
       "      <th>18</th>\n",
       "      <td>19</td>\n",
       "      <td>snacks</td>\n",
       "    </tr>\n",
       "    <tr>\n",
       "      <th>19</th>\n",
       "      <td>20</td>\n",
       "      <td>deli</td>\n",
       "    </tr>\n",
       "    <tr>\n",
       "      <th>20</th>\n",
       "      <td>21</td>\n",
       "      <td>missing</td>\n",
       "    </tr>\n",
       "  </tbody>\n",
       "</table>\n",
       "</div>"
      ],
      "text/plain": [
       "    department_id       department\n",
       "0               1           frozen\n",
       "1               2            other\n",
       "2               3           bakery\n",
       "3               4          produce\n",
       "4               5          alcohol\n",
       "5               6    international\n",
       "6               7        beverages\n",
       "7               8             pets\n",
       "8               9  dry goods pasta\n",
       "9              10             bulk\n",
       "10             11    personal care\n",
       "11             12     meat seafood\n",
       "12             13           pantry\n",
       "13             14        breakfast\n",
       "14             15     canned goods\n",
       "15             16       dairy eggs\n",
       "16             17        household\n",
       "17             18           babies\n",
       "18             19           snacks\n",
       "19             20             deli\n",
       "20             21          missing"
      ]
     },
     "execution_count": 21,
     "metadata": {},
     "output_type": "execute_result"
    }
   ],
   "source": [
    "#Load tranformed departments dataset created in the data wrangling stage to use the corresponding department name\n",
    "# in the subsequent data visualizations.\n",
    "\n",
    "departments = pd.read_csv(os.path.join(path,'02 Data','Prepared','departments_transformed.csv'))\n",
    "\n",
    "departments"
   ]
  },
  {
   "cell_type": "code",
   "execution_count": 22,
   "metadata": {
    "ExecuteTime": {
     "end_time": "2021-07-15T02:04:30.528686Z",
     "start_time": "2021-07-15T02:04:26.637607Z"
    }
   },
   "outputs": [
    {
     "data": {
      "text/plain": [
       "Index(['order_id', 'user_id', 'order_number', 'order_dow', 'order_hour_of_day',\n",
       "       'days_since_prior_order', 'product_id', 'add_to_cart_order',\n",
       "       'reordered', 'product_name', 'aisle_id', 'department_id', 'prices',\n",
       "       'price_range_loc', 'busiest_days', 'busiest_period_of_day', 'max_order',\n",
       "       'loyalty_flag', 'avg_spend_per_user', 'high_spenders',\n",
       "       'median_days_since_prior_ords', 'frequent_user', 'firstname', 'surname',\n",
       "       'gender', 'state', 'age', 'date_joined', 'n_dependants', 'fam_status',\n",
       "       'income', 'region'],\n",
       "      dtype='object')"
      ]
     },
     "execution_count": 22,
     "metadata": {},
     "output_type": "execute_result"
    }
   ],
   "source": [
    "#Drop previous merge indicator column\n",
    "\n",
    "df_merged_s4 = df_merged_s4.drop(columns = ['_merge'])\n",
    "\n",
    "df_merged_s4.columns"
   ]
  },
  {
   "cell_type": "code",
   "execution_count": 23,
   "metadata": {
    "ExecuteTime": {
     "end_time": "2021-07-15T02:07:20.162702Z",
     "start_time": "2021-07-15T02:05:40.412969Z"
    },
    "scrolled": true
   },
   "outputs": [
    {
     "data": {
      "text/plain": [
       "Index(['order_id', 'user_id', 'order_number', 'order_dow', 'order_hour_of_day',\n",
       "       'days_since_prior_order', 'product_id', 'add_to_cart_order',\n",
       "       'reordered', 'product_name', 'aisle_id', 'department_id', 'prices',\n",
       "       'price_range_loc', 'busiest_days', 'busiest_period_of_day', 'max_order',\n",
       "       'loyalty_flag', 'avg_spend_per_user', 'high_spenders',\n",
       "       'median_days_since_prior_ords', 'frequent_user', 'firstname', 'surname',\n",
       "       'gender', 'state', 'age', 'date_joined', 'n_dependants', 'fam_status',\n",
       "       'income', 'region', 'department', '_merge'],\n",
       "      dtype='object')"
      ]
     },
     "execution_count": 23,
     "metadata": {},
     "output_type": "execute_result"
    }
   ],
   "source": [
    "df_merged_s4 = df_merged_s4.merge(departments, on = 'department_id', how = 'inner', indicator = True)\n",
    "df_merged_s4.columns"
   ]
  },
  {
   "cell_type": "code",
   "execution_count": 24,
   "metadata": {
    "ExecuteTime": {
     "end_time": "2021-07-15T02:08:31.418922Z",
     "start_time": "2021-07-15T02:08:31.292201Z"
    }
   },
   "outputs": [
    {
     "data": {
      "text/plain": [
       "both          24414877\n",
       "right_only           0\n",
       "left_only            0\n",
       "Name: _merge, dtype: int64"
      ]
     },
     "execution_count": 24,
     "metadata": {},
     "output_type": "execute_result"
    }
   ],
   "source": [
    "df_merged_s4['_merge'].value_counts(dropna = False)"
   ]
  },
  {
   "cell_type": "code",
   "execution_count": 25,
   "metadata": {
    "ExecuteTime": {
     "end_time": "2021-07-15T02:09:37.611731Z",
     "start_time": "2021-07-15T02:09:37.605735Z"
    }
   },
   "outputs": [],
   "source": [
    "# Begin customer profiling"
   ]
  },
  {
   "cell_type": "code",
   "execution_count": 50,
   "metadata": {
    "ExecuteTime": {
     "end_time": "2021-07-14T05:55:35.257106Z",
     "start_time": "2021-07-14T05:55:33.645195Z"
    },
    "scrolled": true
   },
   "outputs": [
    {
     "data": {
      "text/plain": [
       "married                             17138476\n",
       "single                               4015790\n",
       "divorced/widowed                     2089212\n",
       "living with parents and siblings     1171399\n",
       "Name: fam_status, dtype: int64"
      ]
     },
     "execution_count": 50,
     "metadata": {},
     "output_type": "execute_result"
    }
   ],
   "source": [
    "df_merged_s4['fam_status'].value_counts()"
   ]
  },
  {
   "cell_type": "code",
   "execution_count": 25,
   "metadata": {
    "ExecuteTime": {
     "end_time": "2021-07-14T05:45:23.107794Z",
     "start_time": "2021-07-14T05:45:22.853556Z"
    }
   },
   "outputs": [
    {
     "data": {
      "text/plain": [
       "count    24414877.0\n",
       "mean        99895.0\n",
       "std         43334.0\n",
       "min         25903.0\n",
       "25%         67524.0\n",
       "50%         96836.0\n",
       "75%        128160.0\n",
       "max        593901.0\n",
       "Name: income, dtype: float64"
      ]
     },
     "execution_count": 25,
     "metadata": {},
     "output_type": "execute_result"
    }
   ],
   "source": [
    "round(df_merged_s4['income'].describe())"
   ]
  },
  {
   "cell_type": "code",
   "execution_count": 26,
   "metadata": {
    "ExecuteTime": {
     "end_time": "2021-07-15T02:10:55.195895Z",
     "start_time": "2021-07-15T02:10:48.749315Z"
    }
   },
   "outputs": [],
   "source": [
    "# Income Profile 1\n",
    "\n",
    "df_merged_s4.loc[(df_merged_s4['income'] <= 60000), 'income_levels'] = 'low income'\n",
    "\n",
    "df_merged_s4.loc[(df_merged_s4['income'] > 60000) &\n",
    "                (df_merged_s4['income'] <= 90000),'income_levels'] = 'middle income'\n",
    "\n",
    "df_merged_s4.loc[(df_merged_s4['income'] > 90000),'income_levels'] = 'high income'"
   ]
  },
  {
   "cell_type": "code",
   "execution_count": 27,
   "metadata": {
    "ExecuteTime": {
     "end_time": "2021-07-15T02:12:07.333252Z",
     "start_time": "2021-07-15T02:12:05.980275Z"
    },
    "scrolled": true
   },
   "outputs": [
    {
     "data": {
      "text/plain": [
       "high income      14093355\n",
       "middle income     5806070\n",
       "low income        4515452\n",
       "Name: income_levels, dtype: int64"
      ]
     },
     "execution_count": 27,
     "metadata": {},
     "output_type": "execute_result"
    }
   ],
   "source": [
    "df_merged_s4['income_levels'].value_counts(dropna = False)"
   ]
  },
  {
   "cell_type": "code",
   "execution_count": 28,
   "metadata": {
    "ExecuteTime": {
     "end_time": "2021-07-15T02:13:17.611081Z",
     "start_time": "2021-07-15T02:13:17.594066Z"
    }
   },
   "outputs": [
    {
     "data": {
      "text/plain": [
       "(24414877, 35)"
      ]
     },
     "execution_count": 28,
     "metadata": {},
     "output_type": "execute_result"
    }
   ],
   "source": [
    "df_merged_s4.shape"
   ]
  },
  {
   "cell_type": "code",
   "execution_count": 4,
   "metadata": {
    "ExecuteTime": {
     "end_time": "2021-07-16T02:41:42.833475Z",
     "start_time": "2021-07-16T02:41:40.443238Z"
    }
   },
   "outputs": [
    {
     "data": {
      "text/plain": [
       "Young Adult     8418975\n",
       "Senior Adult    8330598\n",
       "Middle Adult    7665304\n",
       "Name: age_group, dtype: int64"
      ]
     },
     "execution_count": 4,
     "metadata": {},
     "output_type": "execute_result"
    }
   ],
   "source": [
    "# Age group profile 2\n",
    "df_merged_s4.loc[(df_merged_s4['age'] < 40), 'age_group'] = 'Young Adult'\n",
    "\n",
    "df_merged_s4.loc[(df_merged_s4['age'] >= 40) &\n",
    "                (df_merged_s4['age'] < 60),'age_group'] = 'Middle Adult'\n",
    "\n",
    "df_merged_s4.loc[(df_merged_s4['age'] >= 60),'age_group'] = 'Senior Adult'\n",
    "\n",
    "\n",
    "df_merged_s4['age_group'].value_counts(dropna = False)"
   ]
  },
  {
   "cell_type": "code",
   "execution_count": 30,
   "metadata": {
    "ExecuteTime": {
     "end_time": "2021-07-15T02:15:35.379397Z",
     "start_time": "2021-07-15T02:15:35.369968Z"
    }
   },
   "outputs": [
    {
     "data": {
      "text/plain": [
       "(24414877, 36)"
      ]
     },
     "execution_count": 30,
     "metadata": {},
     "output_type": "execute_result"
    }
   ],
   "source": [
    "df_merged_s4.shape"
   ]
  },
  {
   "cell_type": "code",
   "execution_count": 31,
   "metadata": {
    "ExecuteTime": {
     "end_time": "2021-07-15T02:16:50.481554Z",
     "start_time": "2021-07-15T02:16:45.931263Z"
    },
    "scrolled": true
   },
   "outputs": [
    {
     "data": {
      "text/html": [
       "<div>\n",
       "<style scoped>\n",
       "    .dataframe tbody tr th:only-of-type {\n",
       "        vertical-align: middle;\n",
       "    }\n",
       "\n",
       "    .dataframe tbody tr th {\n",
       "        vertical-align: top;\n",
       "    }\n",
       "\n",
       "    .dataframe thead th {\n",
       "        text-align: right;\n",
       "    }\n",
       "</style>\n",
       "<table border=\"1\" class=\"dataframe\">\n",
       "  <thead>\n",
       "    <tr style=\"text-align: right;\">\n",
       "      <th></th>\n",
       "      <th>order_id</th>\n",
       "      <th>user_id</th>\n",
       "      <th>order_number</th>\n",
       "      <th>order_dow</th>\n",
       "      <th>order_hour_of_day</th>\n",
       "      <th>days_since_prior_order</th>\n",
       "      <th>product_id</th>\n",
       "      <th>add_to_cart_order</th>\n",
       "      <th>reordered</th>\n",
       "      <th>product_name</th>\n",
       "      <th>...</th>\n",
       "      <th>date_joined</th>\n",
       "      <th>n_dependants</th>\n",
       "      <th>fam_status</th>\n",
       "      <th>income</th>\n",
       "      <th>region</th>\n",
       "      <th>department</th>\n",
       "      <th>_merge</th>\n",
       "      <th>income_levels</th>\n",
       "      <th>age_group</th>\n",
       "      <th>avg_time_per_user</th>\n",
       "    </tr>\n",
       "  </thead>\n",
       "  <tbody>\n",
       "    <tr>\n",
       "      <th>0</th>\n",
       "      <td>431534</td>\n",
       "      <td>1</td>\n",
       "      <td>5</td>\n",
       "      <td>4</td>\n",
       "      <td>15</td>\n",
       "      <td>28.0</td>\n",
       "      <td>196</td>\n",
       "      <td>1</td>\n",
       "      <td>1</td>\n",
       "      <td>Soda</td>\n",
       "      <td>...</td>\n",
       "      <td>2/17/2019</td>\n",
       "      <td>3</td>\n",
       "      <td>married</td>\n",
       "      <td>40423</td>\n",
       "      <td>South</td>\n",
       "      <td>beverages</td>\n",
       "      <td>both</td>\n",
       "      <td>low income</td>\n",
       "      <td>Young Adult</td>\n",
       "      <td>14.0</td>\n",
       "    </tr>\n",
       "    <tr>\n",
       "      <th>1</th>\n",
       "      <td>3367565</td>\n",
       "      <td>1</td>\n",
       "      <td>6</td>\n",
       "      <td>2</td>\n",
       "      <td>7</td>\n",
       "      <td>19.0</td>\n",
       "      <td>196</td>\n",
       "      <td>1</td>\n",
       "      <td>1</td>\n",
       "      <td>Soda</td>\n",
       "      <td>...</td>\n",
       "      <td>2/17/2019</td>\n",
       "      <td>3</td>\n",
       "      <td>married</td>\n",
       "      <td>40423</td>\n",
       "      <td>South</td>\n",
       "      <td>beverages</td>\n",
       "      <td>both</td>\n",
       "      <td>low income</td>\n",
       "      <td>Young Adult</td>\n",
       "      <td>14.0</td>\n",
       "    </tr>\n",
       "    <tr>\n",
       "      <th>2</th>\n",
       "      <td>550135</td>\n",
       "      <td>1</td>\n",
       "      <td>7</td>\n",
       "      <td>1</td>\n",
       "      <td>9</td>\n",
       "      <td>20.0</td>\n",
       "      <td>196</td>\n",
       "      <td>1</td>\n",
       "      <td>1</td>\n",
       "      <td>Soda</td>\n",
       "      <td>...</td>\n",
       "      <td>2/17/2019</td>\n",
       "      <td>3</td>\n",
       "      <td>married</td>\n",
       "      <td>40423</td>\n",
       "      <td>South</td>\n",
       "      <td>beverages</td>\n",
       "      <td>both</td>\n",
       "      <td>low income</td>\n",
       "      <td>Young Adult</td>\n",
       "      <td>14.0</td>\n",
       "    </tr>\n",
       "    <tr>\n",
       "      <th>3</th>\n",
       "      <td>3108588</td>\n",
       "      <td>1</td>\n",
       "      <td>8</td>\n",
       "      <td>1</td>\n",
       "      <td>14</td>\n",
       "      <td>14.0</td>\n",
       "      <td>196</td>\n",
       "      <td>2</td>\n",
       "      <td>1</td>\n",
       "      <td>Soda</td>\n",
       "      <td>...</td>\n",
       "      <td>2/17/2019</td>\n",
       "      <td>3</td>\n",
       "      <td>married</td>\n",
       "      <td>40423</td>\n",
       "      <td>South</td>\n",
       "      <td>beverages</td>\n",
       "      <td>both</td>\n",
       "      <td>low income</td>\n",
       "      <td>Young Adult</td>\n",
       "      <td>14.0</td>\n",
       "    </tr>\n",
       "    <tr>\n",
       "      <th>4</th>\n",
       "      <td>2295261</td>\n",
       "      <td>1</td>\n",
       "      <td>9</td>\n",
       "      <td>1</td>\n",
       "      <td>16</td>\n",
       "      <td>0.0</td>\n",
       "      <td>196</td>\n",
       "      <td>4</td>\n",
       "      <td>1</td>\n",
       "      <td>Soda</td>\n",
       "      <td>...</td>\n",
       "      <td>2/17/2019</td>\n",
       "      <td>3</td>\n",
       "      <td>married</td>\n",
       "      <td>40423</td>\n",
       "      <td>South</td>\n",
       "      <td>beverages</td>\n",
       "      <td>both</td>\n",
       "      <td>low income</td>\n",
       "      <td>Young Adult</td>\n",
       "      <td>14.0</td>\n",
       "    </tr>\n",
       "  </tbody>\n",
       "</table>\n",
       "<p>5 rows × 37 columns</p>\n",
       "</div>"
      ],
      "text/plain": [
       "   order_id user_id  order_number  order_dow  order_hour_of_day  \\\n",
       "0    431534       1             5          4                 15   \n",
       "1   3367565       1             6          2                  7   \n",
       "2    550135       1             7          1                  9   \n",
       "3   3108588       1             8          1                 14   \n",
       "4   2295261       1             9          1                 16   \n",
       "\n",
       "   days_since_prior_order  product_id  add_to_cart_order  reordered  \\\n",
       "0                    28.0         196                  1          1   \n",
       "1                    19.0         196                  1          1   \n",
       "2                    20.0         196                  1          1   \n",
       "3                    14.0         196                  2          1   \n",
       "4                     0.0         196                  4          1   \n",
       "\n",
       "  product_name  ...  date_joined  n_dependants  fam_status income region  \\\n",
       "0         Soda  ...    2/17/2019             3     married  40423  South   \n",
       "1         Soda  ...    2/17/2019             3     married  40423  South   \n",
       "2         Soda  ...    2/17/2019             3     married  40423  South   \n",
       "3         Soda  ...    2/17/2019             3     married  40423  South   \n",
       "4         Soda  ...    2/17/2019             3     married  40423  South   \n",
       "\n",
       "  department  _merge income_levels    age_group avg_time_per_user  \n",
       "0  beverages    both    low income  Young Adult              14.0  \n",
       "1  beverages    both    low income  Young Adult              14.0  \n",
       "2  beverages    both    low income  Young Adult              14.0  \n",
       "3  beverages    both    low income  Young Adult              14.0  \n",
       "4  beverages    both    low income  Young Adult              14.0  \n",
       "\n",
       "[5 rows x 37 columns]"
      ]
     },
     "execution_count": 31,
     "metadata": {},
     "output_type": "execute_result"
    }
   ],
   "source": [
    "# Median time of day for each user. Profile 3\n",
    "\n",
    "df_merged_s4['avg_time_per_user'] = df_merged_s4.groupby('user_id')['order_hour_of_day'].transform(np.median)\n",
    "\n",
    "df_merged_s4.head()"
   ]
  },
  {
   "cell_type": "code",
   "execution_count": 32,
   "metadata": {
    "ExecuteTime": {
     "end_time": "2021-07-15T02:18:08.553934Z",
     "start_time": "2021-07-15T02:18:00.873754Z"
    },
    "scrolled": true
   },
   "outputs": [
    {
     "data": {
      "text/plain": [
       "Mid-day Shopper       13927692\n",
       "Afternoon Shopper      6763691\n",
       "Morning Shopper        3180942\n",
       "Night-time Shopper      542552\n",
       "Name: customers_median_daytime, dtype: int64"
      ]
     },
     "execution_count": 32,
     "metadata": {},
     "output_type": "execute_result"
    }
   ],
   "source": [
    "# Median time of day for each user flag creation. Profile 4\n",
    "df_merged_s4.loc[(df_merged_s4['avg_time_per_user'] < 11), 'customers_median_daytime'] = 'Morning Shopper'\n",
    "\n",
    "df_merged_s4.loc[(df_merged_s4['avg_time_per_user'] >= 11) &\n",
    "                 (df_merged_s4['avg_time_per_user'] < 15), 'customers_median_daytime'] = 'Mid-day Shopper'\n",
    "\n",
    "df_merged_s4.loc[(df_merged_s4['avg_time_per_user'] >= 15) &\n",
    "                 (df_merged_s4['avg_time_per_user'] < 19), 'customers_median_daytime'] = 'Afternoon Shopper'\n",
    "\n",
    "df_merged_s4.loc[(df_merged_s4['avg_time_per_user'] >= 19), 'customers_median_daytime'] = 'Night-time Shopper'\n",
    "\n",
    "df_merged_s4['customers_median_daytime'].value_counts(dropna = False)"
   ]
  },
  {
   "cell_type": "code",
   "execution_count": 33,
   "metadata": {
    "ExecuteTime": {
     "end_time": "2021-07-15T02:19:20.854525Z",
     "start_time": "2021-07-15T02:19:20.144882Z"
    }
   },
   "outputs": [
    {
     "data": {
      "text/plain": [
       "0.0    24078930\n",
       "1.0      335947\n",
       "Name: kids_flag, dtype: int64"
      ]
     },
     "execution_count": 33,
     "metadata": {},
     "output_type": "execute_result"
    }
   ],
   "source": [
    "# Create flag for users with or without kids to create Profile 5\n",
    "\n",
    "df_merged_s4.loc[(df_merged_s4['department_id'] == 18), 'kids_flag'] = 1\n",
    "df_merged_s4.loc[np.logical_not((df_merged_s4['department_id'] == 18)), 'kids_flag'] = 0\n",
    "\n",
    "df_merged_s4['kids_flag'].value_counts(dropna = False)"
   ]
  },
  {
   "cell_type": "code",
   "execution_count": 34,
   "metadata": {
    "ExecuteTime": {
     "end_time": "2021-07-15T02:20:08.303631Z",
     "start_time": "2021-07-15T02:20:04.353480Z"
    }
   },
   "outputs": [],
   "source": [
    "df_merged_s4['kids_count'] = df_merged_s4.groupby('user_id')['kids_flag'].transform(np.sum)"
   ]
  },
  {
   "cell_type": "code",
   "execution_count": 35,
   "metadata": {
    "ExecuteTime": {
     "end_time": "2021-07-15T02:20:43.970004Z",
     "start_time": "2021-07-15T02:20:43.943981Z"
    }
   },
   "outputs": [
    {
     "data": {
      "text/html": [
       "<div>\n",
       "<style scoped>\n",
       "    .dataframe tbody tr th:only-of-type {\n",
       "        vertical-align: middle;\n",
       "    }\n",
       "\n",
       "    .dataframe tbody tr th {\n",
       "        vertical-align: top;\n",
       "    }\n",
       "\n",
       "    .dataframe thead th {\n",
       "        text-align: right;\n",
       "    }\n",
       "</style>\n",
       "<table border=\"1\" class=\"dataframe\">\n",
       "  <thead>\n",
       "    <tr style=\"text-align: right;\">\n",
       "      <th></th>\n",
       "      <th>order_id</th>\n",
       "      <th>user_id</th>\n",
       "      <th>order_number</th>\n",
       "      <th>order_dow</th>\n",
       "      <th>order_hour_of_day</th>\n",
       "      <th>days_since_prior_order</th>\n",
       "      <th>product_id</th>\n",
       "      <th>add_to_cart_order</th>\n",
       "      <th>reordered</th>\n",
       "      <th>product_name</th>\n",
       "      <th>...</th>\n",
       "      <th>income</th>\n",
       "      <th>region</th>\n",
       "      <th>department</th>\n",
       "      <th>_merge</th>\n",
       "      <th>income_levels</th>\n",
       "      <th>age_group</th>\n",
       "      <th>avg_time_per_user</th>\n",
       "      <th>customers_median_daytime</th>\n",
       "      <th>kids_flag</th>\n",
       "      <th>kids_count</th>\n",
       "    </tr>\n",
       "  </thead>\n",
       "  <tbody>\n",
       "    <tr>\n",
       "      <th>0</th>\n",
       "      <td>431534</td>\n",
       "      <td>1</td>\n",
       "      <td>5</td>\n",
       "      <td>4</td>\n",
       "      <td>15</td>\n",
       "      <td>28.0</td>\n",
       "      <td>196</td>\n",
       "      <td>1</td>\n",
       "      <td>1</td>\n",
       "      <td>Soda</td>\n",
       "      <td>...</td>\n",
       "      <td>40423</td>\n",
       "      <td>South</td>\n",
       "      <td>beverages</td>\n",
       "      <td>both</td>\n",
       "      <td>low income</td>\n",
       "      <td>Young Adult</td>\n",
       "      <td>14.0</td>\n",
       "      <td>Mid-day Shopper</td>\n",
       "      <td>0.0</td>\n",
       "      <td>0.0</td>\n",
       "    </tr>\n",
       "    <tr>\n",
       "      <th>1</th>\n",
       "      <td>3367565</td>\n",
       "      <td>1</td>\n",
       "      <td>6</td>\n",
       "      <td>2</td>\n",
       "      <td>7</td>\n",
       "      <td>19.0</td>\n",
       "      <td>196</td>\n",
       "      <td>1</td>\n",
       "      <td>1</td>\n",
       "      <td>Soda</td>\n",
       "      <td>...</td>\n",
       "      <td>40423</td>\n",
       "      <td>South</td>\n",
       "      <td>beverages</td>\n",
       "      <td>both</td>\n",
       "      <td>low income</td>\n",
       "      <td>Young Adult</td>\n",
       "      <td>14.0</td>\n",
       "      <td>Mid-day Shopper</td>\n",
       "      <td>0.0</td>\n",
       "      <td>0.0</td>\n",
       "    </tr>\n",
       "    <tr>\n",
       "      <th>2</th>\n",
       "      <td>550135</td>\n",
       "      <td>1</td>\n",
       "      <td>7</td>\n",
       "      <td>1</td>\n",
       "      <td>9</td>\n",
       "      <td>20.0</td>\n",
       "      <td>196</td>\n",
       "      <td>1</td>\n",
       "      <td>1</td>\n",
       "      <td>Soda</td>\n",
       "      <td>...</td>\n",
       "      <td>40423</td>\n",
       "      <td>South</td>\n",
       "      <td>beverages</td>\n",
       "      <td>both</td>\n",
       "      <td>low income</td>\n",
       "      <td>Young Adult</td>\n",
       "      <td>14.0</td>\n",
       "      <td>Mid-day Shopper</td>\n",
       "      <td>0.0</td>\n",
       "      <td>0.0</td>\n",
       "    </tr>\n",
       "    <tr>\n",
       "      <th>3</th>\n",
       "      <td>3108588</td>\n",
       "      <td>1</td>\n",
       "      <td>8</td>\n",
       "      <td>1</td>\n",
       "      <td>14</td>\n",
       "      <td>14.0</td>\n",
       "      <td>196</td>\n",
       "      <td>2</td>\n",
       "      <td>1</td>\n",
       "      <td>Soda</td>\n",
       "      <td>...</td>\n",
       "      <td>40423</td>\n",
       "      <td>South</td>\n",
       "      <td>beverages</td>\n",
       "      <td>both</td>\n",
       "      <td>low income</td>\n",
       "      <td>Young Adult</td>\n",
       "      <td>14.0</td>\n",
       "      <td>Mid-day Shopper</td>\n",
       "      <td>0.0</td>\n",
       "      <td>0.0</td>\n",
       "    </tr>\n",
       "    <tr>\n",
       "      <th>4</th>\n",
       "      <td>2295261</td>\n",
       "      <td>1</td>\n",
       "      <td>9</td>\n",
       "      <td>1</td>\n",
       "      <td>16</td>\n",
       "      <td>0.0</td>\n",
       "      <td>196</td>\n",
       "      <td>4</td>\n",
       "      <td>1</td>\n",
       "      <td>Soda</td>\n",
       "      <td>...</td>\n",
       "      <td>40423</td>\n",
       "      <td>South</td>\n",
       "      <td>beverages</td>\n",
       "      <td>both</td>\n",
       "      <td>low income</td>\n",
       "      <td>Young Adult</td>\n",
       "      <td>14.0</td>\n",
       "      <td>Mid-day Shopper</td>\n",
       "      <td>0.0</td>\n",
       "      <td>0.0</td>\n",
       "    </tr>\n",
       "  </tbody>\n",
       "</table>\n",
       "<p>5 rows × 40 columns</p>\n",
       "</div>"
      ],
      "text/plain": [
       "   order_id user_id  order_number  order_dow  order_hour_of_day  \\\n",
       "0    431534       1             5          4                 15   \n",
       "1   3367565       1             6          2                  7   \n",
       "2    550135       1             7          1                  9   \n",
       "3   3108588       1             8          1                 14   \n",
       "4   2295261       1             9          1                 16   \n",
       "\n",
       "   days_since_prior_order  product_id  add_to_cart_order  reordered  \\\n",
       "0                    28.0         196                  1          1   \n",
       "1                    19.0         196                  1          1   \n",
       "2                    20.0         196                  1          1   \n",
       "3                    14.0         196                  2          1   \n",
       "4                     0.0         196                  4          1   \n",
       "\n",
       "  product_name  ...  income  region  department _merge income_levels  \\\n",
       "0         Soda  ...   40423   South   beverages   both    low income   \n",
       "1         Soda  ...   40423   South   beverages   both    low income   \n",
       "2         Soda  ...   40423   South   beverages   both    low income   \n",
       "3         Soda  ...   40423   South   beverages   both    low income   \n",
       "4         Soda  ...   40423   South   beverages   both    low income   \n",
       "\n",
       "     age_group  avg_time_per_user customers_median_daytime  kids_flag  \\\n",
       "0  Young Adult               14.0          Mid-day Shopper        0.0   \n",
       "1  Young Adult               14.0          Mid-day Shopper        0.0   \n",
       "2  Young Adult               14.0          Mid-day Shopper        0.0   \n",
       "3  Young Adult               14.0          Mid-day Shopper        0.0   \n",
       "4  Young Adult               14.0          Mid-day Shopper        0.0   \n",
       "\n",
       "  kids_count  \n",
       "0        0.0  \n",
       "1        0.0  \n",
       "2        0.0  \n",
       "3        0.0  \n",
       "4        0.0  \n",
       "\n",
       "[5 rows x 40 columns]"
      ]
     },
     "execution_count": 35,
     "metadata": {},
     "output_type": "execute_result"
    }
   ],
   "source": [
    "df_merged_s4.head()"
   ]
  },
  {
   "cell_type": "code",
   "execution_count": 59,
   "metadata": {
    "ExecuteTime": {
     "end_time": "2021-07-14T05:57:59.157463Z",
     "start_time": "2021-07-14T05:57:59.143417Z"
    }
   },
   "outputs": [],
   "source": [
    "# df_merged_s4[(df_merged_s4['kids_count'] == 1)]\n",
    "# df_merged_s4[(df_merged_s4['user_id'] == '160202')]\n",
    "# 42382"
   ]
  },
  {
   "cell_type": "code",
   "execution_count": 36,
   "metadata": {
    "ExecuteTime": {
     "end_time": "2021-07-15T02:21:53.897978Z",
     "start_time": "2021-07-15T02:21:53.757348Z"
    },
    "scrolled": true
   },
   "outputs": [
    {
     "data": {
      "text/plain": [
       "0.0      16594684\n",
       "1.0       1449554\n",
       "2.0        761904\n",
       "3.0        475266\n",
       "4.0        405390\n",
       "           ...   \n",
       "245.0         569\n",
       "200.0         537\n",
       "156.0         499\n",
       "219.0         499\n",
       "236.0         474\n",
       "Name: kids_count, Length: 256, dtype: int64"
      ]
     },
     "execution_count": 36,
     "metadata": {},
     "output_type": "execute_result"
    }
   ],
   "source": [
    "#Check the frequency of baby products counts \n",
    "\n",
    "df_merged_s4['kids_count'].value_counts(dropna = False)"
   ]
  },
  {
   "cell_type": "code",
   "execution_count": 37,
   "metadata": {
    "ExecuteTime": {
     "end_time": "2021-07-15T02:23:14.541066Z",
     "start_time": "2021-07-15T02:23:12.993136Z"
    }
   },
   "outputs": [
    {
     "data": {
      "text/plain": [
       "married                             17138476\n",
       "single                               4015790\n",
       "divorced/widowed                     2089212\n",
       "living with parents and siblings     1171399\n",
       "Name: fam_status, dtype: int64"
      ]
     },
     "execution_count": 37,
     "metadata": {},
     "output_type": "execute_result"
    }
   ],
   "source": [
    "# Double check the values for famiy status\n",
    "df_merged_s4['fam_status'].value_counts()"
   ]
  },
  {
   "cell_type": "code",
   "execution_count": 43,
   "metadata": {
    "ExecuteTime": {
     "end_time": "2021-07-15T02:39:41.858912Z",
     "start_time": "2021-07-15T02:39:36.790523Z"
    },
    "scrolled": false
   },
   "outputs": [],
   "source": [
    "# Single or couple with kids profile 5\n",
    "\n",
    "df_merged_s4.loc[(df_merged_s4['fam_status'].isin(['divorced/widowed','single'])) &\n",
    "                 (df_merged_s4['n_dependants'] >= 1) &\n",
    "                 (df_merged_s4['kids_count'] >= 1), 'parental_status'] = 'single with kids'\n",
    "\n",
    "df_merged_s4.loc[(df_merged_s4['fam_status'].isin(['divorced/widowed','single'])) &\n",
    "                 (df_merged_s4['n_dependants'] == 0) &\n",
    "                 (df_merged_s4['kids_count'] == 0), 'parental_status'] = 'single without kids'\n",
    "\n",
    "df_merged_s4.loc[(df_merged_s4['fam_status'] == 'married') &\n",
    "                 (df_merged_s4['n_dependants'] >= 1) &\n",
    "                 (df_merged_s4['kids_count'] >= 1), 'parental_status'] = 'couple with kids'\n",
    "\n",
    "df_merged_s4.loc[(df_merged_s4['fam_status'] == 'married') &\n",
    "                 (df_merged_s4['kids_count'] < 1), 'parental_status'] = 'couple without kids'\n",
    "\n",
    "df_merged_s4.loc[df_merged_s4['parental_status'].isna(),'parental_status'] = np.nan"
   ]
  },
  {
   "cell_type": "code",
   "execution_count": 44,
   "metadata": {
    "ExecuteTime": {
     "end_time": "2021-07-15T02:40:55.734128Z",
     "start_time": "2021-07-15T02:40:54.400738Z"
    }
   },
   "outputs": [
    {
     "data": {
      "text/plain": [
       "couple without kids    11656347\n",
       "couple with kids        5482129\n",
       "single without kids     4135733\n",
       "NaN                     3140668\n",
       "Name: parental_status, dtype: int64"
      ]
     },
     "execution_count": 44,
     "metadata": {},
     "output_type": "execute_result"
    }
   ],
   "source": [
    "df_merged_s4['parental_status'].value_counts(dropna = False)"
   ]
  },
  {
   "cell_type": "markdown",
   "metadata": {},
   "source": [
    "It's interesting to see no single customers with kids based on the criteria above."
   ]
  },
  {
   "cell_type": "code",
   "execution_count": 46,
   "metadata": {
    "ExecuteTime": {
     "end_time": "2021-07-15T02:43:20.520617Z",
     "start_time": "2021-07-15T02:43:19.407857Z"
    }
   },
   "outputs": [
    {
     "data": {
      "text/html": [
       "<div>\n",
       "<style scoped>\n",
       "    .dataframe tbody tr th:only-of-type {\n",
       "        vertical-align: middle;\n",
       "    }\n",
       "\n",
       "    .dataframe tbody tr th {\n",
       "        vertical-align: top;\n",
       "    }\n",
       "\n",
       "    .dataframe thead th {\n",
       "        text-align: right;\n",
       "    }\n",
       "</style>\n",
       "<table border=\"1\" class=\"dataframe\">\n",
       "  <thead>\n",
       "    <tr style=\"text-align: right;\">\n",
       "      <th></th>\n",
       "      <th>user_id</th>\n",
       "      <th>gender</th>\n",
       "      <th>fam_status</th>\n",
       "      <th>n_dependants</th>\n",
       "      <th>kids_count</th>\n",
       "      <th>kids_flag</th>\n",
       "      <th>age_group</th>\n",
       "      <th>parental_status</th>\n",
       "    </tr>\n",
       "  </thead>\n",
       "  <tbody>\n",
       "    <tr>\n",
       "      <th>0</th>\n",
       "      <td>1</td>\n",
       "      <td>Female</td>\n",
       "      <td>married</td>\n",
       "      <td>3</td>\n",
       "      <td>0.0</td>\n",
       "      <td>0.0</td>\n",
       "      <td>Young Adult</td>\n",
       "      <td>couple without kids</td>\n",
       "    </tr>\n",
       "    <tr>\n",
       "      <th>1</th>\n",
       "      <td>1</td>\n",
       "      <td>Female</td>\n",
       "      <td>married</td>\n",
       "      <td>3</td>\n",
       "      <td>0.0</td>\n",
       "      <td>0.0</td>\n",
       "      <td>Young Adult</td>\n",
       "      <td>couple without kids</td>\n",
       "    </tr>\n",
       "    <tr>\n",
       "      <th>2</th>\n",
       "      <td>1</td>\n",
       "      <td>Female</td>\n",
       "      <td>married</td>\n",
       "      <td>3</td>\n",
       "      <td>0.0</td>\n",
       "      <td>0.0</td>\n",
       "      <td>Young Adult</td>\n",
       "      <td>couple without kids</td>\n",
       "    </tr>\n",
       "    <tr>\n",
       "      <th>3</th>\n",
       "      <td>1</td>\n",
       "      <td>Female</td>\n",
       "      <td>married</td>\n",
       "      <td>3</td>\n",
       "      <td>0.0</td>\n",
       "      <td>0.0</td>\n",
       "      <td>Young Adult</td>\n",
       "      <td>couple without kids</td>\n",
       "    </tr>\n",
       "    <tr>\n",
       "      <th>4</th>\n",
       "      <td>1</td>\n",
       "      <td>Female</td>\n",
       "      <td>married</td>\n",
       "      <td>3</td>\n",
       "      <td>0.0</td>\n",
       "      <td>0.0</td>\n",
       "      <td>Young Adult</td>\n",
       "      <td>couple without kids</td>\n",
       "    </tr>\n",
       "    <tr>\n",
       "      <th>...</th>\n",
       "      <td>...</td>\n",
       "      <td>...</td>\n",
       "      <td>...</td>\n",
       "      <td>...</td>\n",
       "      <td>...</td>\n",
       "      <td>...</td>\n",
       "      <td>...</td>\n",
       "      <td>...</td>\n",
       "    </tr>\n",
       "    <tr>\n",
       "      <th>24414872</th>\n",
       "      <td>172917</td>\n",
       "      <td>Female</td>\n",
       "      <td>married</td>\n",
       "      <td>1</td>\n",
       "      <td>11.0</td>\n",
       "      <td>1.0</td>\n",
       "      <td>Senior Adult</td>\n",
       "      <td>couple with kids</td>\n",
       "    </tr>\n",
       "    <tr>\n",
       "      <th>24414873</th>\n",
       "      <td>172917</td>\n",
       "      <td>Female</td>\n",
       "      <td>married</td>\n",
       "      <td>1</td>\n",
       "      <td>11.0</td>\n",
       "      <td>1.0</td>\n",
       "      <td>Senior Adult</td>\n",
       "      <td>couple with kids</td>\n",
       "    </tr>\n",
       "    <tr>\n",
       "      <th>24414874</th>\n",
       "      <td>172917</td>\n",
       "      <td>Female</td>\n",
       "      <td>married</td>\n",
       "      <td>1</td>\n",
       "      <td>11.0</td>\n",
       "      <td>1.0</td>\n",
       "      <td>Senior Adult</td>\n",
       "      <td>couple with kids</td>\n",
       "    </tr>\n",
       "    <tr>\n",
       "      <th>24414875</th>\n",
       "      <td>172917</td>\n",
       "      <td>Female</td>\n",
       "      <td>married</td>\n",
       "      <td>1</td>\n",
       "      <td>11.0</td>\n",
       "      <td>1.0</td>\n",
       "      <td>Senior Adult</td>\n",
       "      <td>couple with kids</td>\n",
       "    </tr>\n",
       "    <tr>\n",
       "      <th>24414876</th>\n",
       "      <td>172917</td>\n",
       "      <td>Female</td>\n",
       "      <td>married</td>\n",
       "      <td>1</td>\n",
       "      <td>11.0</td>\n",
       "      <td>1.0</td>\n",
       "      <td>Senior Adult</td>\n",
       "      <td>couple with kids</td>\n",
       "    </tr>\n",
       "  </tbody>\n",
       "</table>\n",
       "<p>24414877 rows × 8 columns</p>\n",
       "</div>"
      ],
      "text/plain": [
       "         user_id  gender fam_status  n_dependants  kids_count  kids_flag  \\\n",
       "0              1  Female    married             3         0.0        0.0   \n",
       "1              1  Female    married             3         0.0        0.0   \n",
       "2              1  Female    married             3         0.0        0.0   \n",
       "3              1  Female    married             3         0.0        0.0   \n",
       "4              1  Female    married             3         0.0        0.0   \n",
       "...          ...     ...        ...           ...         ...        ...   \n",
       "24414872  172917  Female    married             1        11.0        1.0   \n",
       "24414873  172917  Female    married             1        11.0        1.0   \n",
       "24414874  172917  Female    married             1        11.0        1.0   \n",
       "24414875  172917  Female    married             1        11.0        1.0   \n",
       "24414876  172917  Female    married             1        11.0        1.0   \n",
       "\n",
       "             age_group      parental_status  \n",
       "0          Young Adult  couple without kids  \n",
       "1          Young Adult  couple without kids  \n",
       "2          Young Adult  couple without kids  \n",
       "3          Young Adult  couple without kids  \n",
       "4          Young Adult  couple without kids  \n",
       "...                ...                  ...  \n",
       "24414872  Senior Adult     couple with kids  \n",
       "24414873  Senior Adult     couple with kids  \n",
       "24414874  Senior Adult     couple with kids  \n",
       "24414875  Senior Adult     couple with kids  \n",
       "24414876  Senior Adult     couple with kids  \n",
       "\n",
       "[24414877 rows x 8 columns]"
      ]
     },
     "execution_count": 46,
     "metadata": {},
     "output_type": "execute_result"
    }
   ],
   "source": [
    "# Double check the rows based on parental_status\n",
    "\n",
    "df_merged_s4[['user_id','gender','fam_status','n_dependants','kids_count','kids_flag','age_group','parental_status']]"
   ]
  },
  {
   "cell_type": "code",
   "execution_count": 47,
   "metadata": {
    "ExecuteTime": {
     "end_time": "2021-07-15T02:44:33.938339Z",
     "start_time": "2021-07-15T02:44:33.933336Z"
    }
   },
   "outputs": [
    {
     "data": {
      "text/plain": [
       "(24414877, 42)"
      ]
     },
     "execution_count": 47,
     "metadata": {},
     "output_type": "execute_result"
    }
   ],
   "source": [
    "df_merged_s4.shape"
   ]
  },
  {
   "cell_type": "code",
   "execution_count": 62,
   "metadata": {
    "ExecuteTime": {
     "end_time": "2021-07-15T03:03:44.261642Z",
     "start_time": "2021-07-15T03:03:35.317087Z"
    },
    "scrolled": true
   },
   "outputs": [],
   "source": [
    "# drop flags that are not longer considered useful\n",
    "\n",
    "df_merged_s4 = df_merged_s4.drop(columns = ['_merge','kids_flag'])"
   ]
  },
  {
   "cell_type": "code",
   "execution_count": 63,
   "metadata": {
    "ExecuteTime": {
     "end_time": "2021-07-15T03:04:57.543616Z",
     "start_time": "2021-07-15T03:04:57.528997Z"
    },
    "scrolled": true
   },
   "outputs": [
    {
     "data": {
      "text/plain": [
       "Index(['order_id', 'user_id', 'order_number', 'order_dow', 'order_hour_of_day',\n",
       "       'days_since_prior_order', 'product_id', 'add_to_cart_order',\n",
       "       'reordered', 'product_name', 'aisle_id', 'department_id', 'prices',\n",
       "       'price_range_loc', 'busiest_days', 'busiest_period_of_day', 'max_order',\n",
       "       'loyalty_flag', 'avg_spend_per_user', 'high_spenders',\n",
       "       'median_days_since_prior_ords', 'frequent_user', 'firstname', 'surname',\n",
       "       'gender', 'state', 'age', 'date_joined', 'n_dependants', 'fam_status',\n",
       "       'income', 'region', 'department', 'income_levels', 'age_group',\n",
       "       'avg_time_per_user', 'customers_median_daytime', 'kids_count',\n",
       "       'parental_status'],\n",
       "      dtype='object')"
      ]
     },
     "execution_count": 63,
     "metadata": {},
     "output_type": "execute_result"
    }
   ],
   "source": [
    "df_merged_s4.columns"
   ]
  },
  {
   "cell_type": "code",
   "execution_count": 64,
   "metadata": {
    "ExecuteTime": {
     "end_time": "2021-07-15T03:06:27.582965Z",
     "start_time": "2021-07-15T03:06:00.242653Z"
    }
   },
   "outputs": [],
   "source": [
    "#Export updated dataframe\n",
    "\n",
    "df_merged_s4.to_pickle(os.path.join(path,'02 Data', 'Prepared','cus_ords_over_5.pkl'))"
   ]
  },
  {
   "cell_type": "markdown",
   "metadata": {},
   "source": [
    "### Step 6 - Customer profile visualization "
   ]
  },
  {
   "cell_type": "code",
   "execution_count": 3,
   "metadata": {
    "ExecuteTime": {
     "end_time": "2021-07-16T02:40:36.915456Z",
     "start_time": "2021-07-16T02:40:20.656225Z"
    }
   },
   "outputs": [],
   "source": [
    "# just in case - retrive saved file from step 5\n",
    "# df_merged_s4 = pd.read_pickle(os.path.join(path,'02 Data','Prepared','cus_ords_over_5.pkl'))\n",
    "# # df_merged_s4.shape"
   ]
  },
  {
   "cell_type": "code",
   "execution_count": 25,
   "metadata": {
    "ExecuteTime": {
     "end_time": "2021-07-16T06:25:20.025549Z",
     "start_time": "2021-07-16T06:25:18.611072Z"
    },
    "scrolled": false
   },
   "outputs": [
    {
     "data": {
      "image/png": "[encoded data removed]",
      "text/plain": [
       "<Figure size 720x576 with 1 Axes>"
      ]
     },
     "metadata": {
      "needs_background": "light"
     },
     "output_type": "display_data"
    }
   ],
   "source": [
    "# orders from different income levels\n",
    "\n",
    "fig_income = df_merged_s4['income_levels'].value_counts(dropna = False).plot.bar(color = 'orange', rot = 0,\n",
    "                                                                    xlabel = 'Income Levels',\n",
    "                                                                    ylabel = 'Total Orders',\n",
    "                                                                    figsize = (10,8),\n",
    "                                                                    title = \"Distribution of Orders based on Income Levels\")\n",
    "plt.show()"
   ]
  },
  {
   "cell_type": "code",
   "execution_count": 33,
   "metadata": {
    "ExecuteTime": {
     "end_time": "2021-07-16T07:32:28.562676Z",
     "start_time": "2021-07-16T07:32:27.266374Z"
    }
   },
   "outputs": [
    {
     "data": {
      "text/plain": [
       "Young Adult     8418975\n",
       "Senior Adult    8330598\n",
       "Middle Adult    7665304\n",
       "Name: age_group, dtype: int64"
      ]
     },
     "execution_count": 33,
     "metadata": {},
     "output_type": "execute_result"
    }
   ],
   "source": [
    "df_merged_s4['age_group'].value_counts(dropna = False)"
   ]
  },
  {
   "cell_type": "code",
   "execution_count": 26,
   "metadata": {
    "ExecuteTime": {
     "end_time": "2021-07-16T06:25:40.264318Z",
     "start_time": "2021-07-16T06:25:38.849510Z"
    },
    "scrolled": false
   },
   "outputs": [
    {
     "data": {
      "image/png": "[encoded data removed]",
      "text/plain": [
       "<Figure size 720x576 with 1 Axes>"
      ]
     },
     "metadata": {
      "needs_background": "light"
     },
     "output_type": "display_data"
    }
   ],
   "source": [
    "# orders from different age groups\n",
    "\n",
    "fig_age = df_merged_s4['age_group'].value_counts(dropna = False).plot.bar(color = 'blue', rot = 0,\n",
    "                                                                    xlabel = 'Age Group',\n",
    "                                                                    ylabel = 'Total Orders',\n",
    "                                                                    figsize = (10,8),\n",
    "                                                                    title = \"Distribution of Orders based on Age Groups\")"
   ]
  },
  {
   "cell_type": "code",
   "execution_count": 27,
   "metadata": {
    "ExecuteTime": {
     "end_time": "2021-07-16T06:26:00.575463Z",
     "start_time": "2021-07-16T06:25:59.089342Z"
    }
   },
   "outputs": [
    {
     "data": {
      "image/png": "[encoded data removed]",
      "text/plain": [
       "<Figure size 432x288 with 1 Axes>"
      ]
     },
     "metadata": {
      "needs_background": "light"
     },
     "output_type": "display_data"
    }
   ],
   "source": [
    "# Distribution of median hour of orders for each customer \n",
    "\n",
    "fig_median_orders = df_merged_s4['avg_time_per_user'].plot.hist(color = 'purple', bins = 24)"
   ]
  },
  {
   "cell_type": "code",
   "execution_count": 92,
   "metadata": {
    "ExecuteTime": {
     "end_time": "2021-07-15T04:09:23.765044Z",
     "start_time": "2021-07-15T04:09:22.032413Z"
    },
    "scrolled": false
   },
   "outputs": [
    {
     "data": {
      "text/html": [
       "<div>\n",
       "<style scoped>\n",
       "    .dataframe tbody tr th:only-of-type {\n",
       "        vertical-align: middle;\n",
       "    }\n",
       "\n",
       "    .dataframe tbody tr th {\n",
       "        vertical-align: top;\n",
       "    }\n",
       "\n",
       "    .dataframe thead th {\n",
       "        text-align: right;\n",
       "    }\n",
       "</style>\n",
       "<table border=\"1\" class=\"dataframe\">\n",
       "  <thead>\n",
       "    <tr style=\"text-align: right;\">\n",
       "      <th></th>\n",
       "      <th>prices</th>\n",
       "    </tr>\n",
       "    <tr>\n",
       "      <th>customers_median_daytime</th>\n",
       "      <th></th>\n",
       "    </tr>\n",
       "  </thead>\n",
       "  <tbody>\n",
       "    <tr>\n",
       "      <th>Afternoon Shopper</th>\n",
       "      <td>7.0</td>\n",
       "    </tr>\n",
       "    <tr>\n",
       "      <th>Mid-day Shopper</th>\n",
       "      <td>7.0</td>\n",
       "    </tr>\n",
       "    <tr>\n",
       "      <th>Morning Shopper</th>\n",
       "      <td>7.0</td>\n",
       "    </tr>\n",
       "    <tr>\n",
       "      <th>Night-time Shopper</th>\n",
       "      <td>7.0</td>\n",
       "    </tr>\n",
       "  </tbody>\n",
       "</table>\n",
       "</div>"
      ],
      "text/plain": [
       "                          prices\n",
       "customers_median_daytime        \n",
       "Afternoon Shopper            7.0\n",
       "Mid-day Shopper              7.0\n",
       "Morning Shopper              7.0\n",
       "Night-time Shopper           7.0"
      ]
     },
     "execution_count": 92,
     "metadata": {},
     "output_type": "execute_result"
    }
   ],
   "source": [
    "# Distribution of shoppers based on time of day\n",
    "round(df_merged_s4.groupby(['customers_median_daytime']).agg({'prices':'median'})).sort_values(by = 'prices', ascending = False)"
   ]
  },
  {
   "cell_type": "code",
   "execution_count": 34,
   "metadata": {
    "ExecuteTime": {
     "end_time": "2021-07-16T07:34:04.350017Z",
     "start_time": "2021-07-16T07:34:03.002402Z"
    },
    "scrolled": true
   },
   "outputs": [
    {
     "data": {
      "image/png": "[encoded data removed]",
      "text/plain": [
       "<Figure size 648x360 with 1 Axes>"
      ]
     },
     "metadata": {
      "needs_background": "light"
     },
     "output_type": "display_data"
    }
   ],
   "source": [
    "#Distribution of orders from customers possibly with kids, without kids or undetermined\n",
    "\n",
    "fig_parent = df_merged_s4['parental_status'].value_counts(dropna = True).plot.bar(color = 'green', rot = 0,\n",
    "                                                                    xlabel = 'Parental Status',\n",
    "                                                                    ylabel = 'Total Orders',\n",
    "                                                                    figsize = (9,5),\n",
    "                                                                    title = \"Order Frequency from Parental Groups\")"
   ]
  },
  {
   "cell_type": "markdown",
   "metadata": {},
   "source": [
    "### Step 7 -  Summary statistics based on usage frequency and expenditure"
   ]
  },
  {
   "cell_type": "code",
   "execution_count": 118,
   "metadata": {
    "ExecuteTime": {
     "end_time": "2021-07-15T05:04:37.308012Z",
     "start_time": "2021-07-15T05:04:32.289750Z"
    },
    "scrolled": true
   },
   "outputs": [],
   "source": [
    "# Aggregating a customer-profile level for usage frequency and expenditure.\n",
    "\n",
    "df_s7 = round(df_merged_s4.groupby(['high_spenders','frequent_user'])\n",
    "              .agg({'order_number':['max','min','mean','median'],\n",
    "                    'prices':['sum','max','min','mean','median']})\n",
    "             )"
   ]
  },
  {
   "cell_type": "code",
   "execution_count": 119,
   "metadata": {
    "ExecuteTime": {
     "end_time": "2021-07-15T05:05:49.300044Z",
     "start_time": "2021-07-15T05:05:49.284603Z"
    },
    "scrolled": true
   },
   "outputs": [
    {
     "data": {
      "text/html": [
       "<div>\n",
       "<style scoped>\n",
       "    .dataframe tbody tr th:only-of-type {\n",
       "        vertical-align: middle;\n",
       "    }\n",
       "\n",
       "    .dataframe tbody tr th {\n",
       "        vertical-align: top;\n",
       "    }\n",
       "\n",
       "    .dataframe thead tr th {\n",
       "        text-align: left;\n",
       "    }\n",
       "\n",
       "    .dataframe thead tr:last-of-type th {\n",
       "        text-align: right;\n",
       "    }\n",
       "</style>\n",
       "<table border=\"1\" class=\"dataframe\">\n",
       "  <thead>\n",
       "    <tr>\n",
       "      <th></th>\n",
       "      <th></th>\n",
       "      <th colspan=\"4\" halign=\"left\">order_number</th>\n",
       "      <th colspan=\"5\" halign=\"left\">prices</th>\n",
       "    </tr>\n",
       "    <tr>\n",
       "      <th></th>\n",
       "      <th></th>\n",
       "      <th>max</th>\n",
       "      <th>min</th>\n",
       "      <th>mean</th>\n",
       "      <th>median</th>\n",
       "      <th>sum</th>\n",
       "      <th>max</th>\n",
       "      <th>min</th>\n",
       "      <th>mean</th>\n",
       "      <th>median</th>\n",
       "    </tr>\n",
       "    <tr>\n",
       "      <th>high_spenders</th>\n",
       "      <th>frequent_user</th>\n",
       "      <th></th>\n",
       "      <th></th>\n",
       "      <th></th>\n",
       "      <th></th>\n",
       "      <th></th>\n",
       "      <th></th>\n",
       "      <th></th>\n",
       "      <th></th>\n",
       "      <th></th>\n",
       "    </tr>\n",
       "  </thead>\n",
       "  <tbody>\n",
       "    <tr>\n",
       "      <th rowspan=\"3\" valign=\"top\">High spender</th>\n",
       "      <th>Frequent customer</th>\n",
       "      <td>99</td>\n",
       "      <td>5</td>\n",
       "      <td>26.0</td>\n",
       "      <td>21</td>\n",
       "      <td>3004768.0</td>\n",
       "      <td>25.0</td>\n",
       "      <td>1.0</td>\n",
       "      <td>8.0</td>\n",
       "      <td>8.0</td>\n",
       "    </tr>\n",
       "    <tr>\n",
       "      <th>Non-frequent customer</th>\n",
       "      <td>22</td>\n",
       "      <td>5</td>\n",
       "      <td>8.0</td>\n",
       "      <td>7</td>\n",
       "      <td>178510.0</td>\n",
       "      <td>25.0</td>\n",
       "      <td>1.0</td>\n",
       "      <td>9.0</td>\n",
       "      <td>8.0</td>\n",
       "    </tr>\n",
       "    <tr>\n",
       "      <th>Regular customer</th>\n",
       "      <td>35</td>\n",
       "      <td>5</td>\n",
       "      <td>12.0</td>\n",
       "      <td>10</td>\n",
       "      <td>724780.0</td>\n",
       "      <td>25.0</td>\n",
       "      <td>1.0</td>\n",
       "      <td>8.0</td>\n",
       "      <td>8.0</td>\n",
       "    </tr>\n",
       "    <tr>\n",
       "      <th rowspan=\"3\" valign=\"top\">Low spender</th>\n",
       "      <th>Frequent customer</th>\n",
       "      <td>99</td>\n",
       "      <td>5</td>\n",
       "      <td>25.0</td>\n",
       "      <td>20</td>\n",
       "      <td>143188695.0</td>\n",
       "      <td>25.0</td>\n",
       "      <td>1.0</td>\n",
       "      <td>8.0</td>\n",
       "      <td>7.0</td>\n",
       "    </tr>\n",
       "    <tr>\n",
       "      <th>Non-frequent customer</th>\n",
       "      <td>25</td>\n",
       "      <td>5</td>\n",
       "      <td>8.0</td>\n",
       "      <td>7</td>\n",
       "      <td>8454911.0</td>\n",
       "      <td>25.0</td>\n",
       "      <td>1.0</td>\n",
       "      <td>8.0</td>\n",
       "      <td>7.0</td>\n",
       "    </tr>\n",
       "    <tr>\n",
       "      <th>Regular customer</th>\n",
       "      <td>45</td>\n",
       "      <td>5</td>\n",
       "      <td>11.0</td>\n",
       "      <td>10</td>\n",
       "      <td>34627732.0</td>\n",
       "      <td>25.0</td>\n",
       "      <td>1.0</td>\n",
       "      <td>8.0</td>\n",
       "      <td>7.0</td>\n",
       "    </tr>\n",
       "  </tbody>\n",
       "</table>\n",
       "</div>"
      ],
      "text/plain": [
       "                                    order_number                   \\\n",
       "                                             max min  mean median   \n",
       "high_spenders frequent_user                                         \n",
       "High spender  Frequent customer               99   5  26.0     21   \n",
       "              Non-frequent customer           22   5   8.0      7   \n",
       "              Regular customer                35   5  12.0     10   \n",
       "Low spender   Frequent customer               99   5  25.0     20   \n",
       "              Non-frequent customer           25   5   8.0      7   \n",
       "              Regular customer                45   5  11.0     10   \n",
       "\n",
       "                                          prices                         \n",
       "                                             sum   max  min mean median  \n",
       "high_spenders frequent_user                                              \n",
       "High spender  Frequent customer        3004768.0  25.0  1.0  8.0    8.0  \n",
       "              Non-frequent customer     178510.0  25.0  1.0  9.0    8.0  \n",
       "              Regular customer          724780.0  25.0  1.0  8.0    8.0  \n",
       "Low spender   Frequent customer      143188695.0  25.0  1.0  8.0    7.0  \n",
       "              Non-frequent customer    8454911.0  25.0  1.0  8.0    7.0  \n",
       "              Regular customer        34627732.0  25.0  1.0  8.0    7.0  "
      ]
     },
     "execution_count": 119,
     "metadata": {},
     "output_type": "execute_result"
    }
   ],
   "source": [
    "df_s7"
   ]
  },
  {
   "cell_type": "markdown",
   "metadata": {},
   "source": [
    "### Step 8 + 9 - Customer profiles compared to regions and departments <br>"
   ]
  },
  {
   "cell_type": "code",
   "execution_count": 8,
   "metadata": {
    "ExecuteTime": {
     "end_time": "2021-07-16T03:23:02.956085Z",
     "start_time": "2021-07-16T03:22:59.583867Z"
    },
    "scrolled": false
   },
   "outputs": [
    {
     "data": {
      "image/png": "[encoded data removed]",
      "text/plain": [
       "<Figure size 792x576 with 1 Axes>"
      ]
     },
     "metadata": {
      "needs_background": "light"
     },
     "output_type": "display_data"
    }
   ],
   "source": [
    "# orders from region compared with income levels\n",
    "s8_1 = pd.crosstab(df_merged_s4['region'], df_merged_s4['income_levels'], dropna = False)\n",
    "\n",
    "fig_s8_1 = s8_1.plot.bar(rot = 0,\n",
    "                        xlabel = 'Region',\n",
    "                        ylabel = 'Total Orders',\n",
    "                        figsize = (11,8),\n",
    "                        fontsize = 12,\n",
    "                        title = \"Orders for Each Region Compared with Income Levels\")"
   ]
  },
  {
   "cell_type": "code",
   "execution_count": 108,
   "metadata": {
    "ExecuteTime": {
     "end_time": "2021-07-14T07:35:38.436943Z",
     "start_time": "2021-07-14T07:35:34.955981Z"
    },
    "collapsed": true
   },
   "outputs": [
    {
     "data": {
      "text/plain": [
       "<AxesSubplot:xlabel='region'>"
      ]
     },
     "execution_count": 108,
     "metadata": {},
     "output_type": "execute_result"
    },
    {
     "data": {
      "text/plain": [
       "<Figure size 1080x720 with 0 Axes>"
      ]
     },
     "metadata": {},
     "output_type": "display_data"
    },
    {
     "data": {
      "image/png": "[encoded data removed]",
      "text/plain": [
       "<Figure size 432x288 with 1 Axes>"
      ]
     },
     "metadata": {
      "needs_background": "light"
     },
     "output_type": "display_data"
    }
   ],
   "source": [
    "# s81 = pd.crosstab(df_merged_s4['region'], df_merged_s4['department'], dropna = False)\n",
    "# plt.figure(figsize = (15,10))\n",
    "# s81.plot.bar(rot = 0)"
   ]
  },
  {
   "cell_type": "code",
   "execution_count": 9,
   "metadata": {
    "ExecuteTime": {
     "end_time": "2021-07-16T03:24:59.575846Z",
     "start_time": "2021-07-16T03:24:56.183284Z"
    }
   },
   "outputs": [
    {
     "data": {
      "image/png": "[encoded data removed]",
      "text/plain": [
       "<Figure size 720x360 with 1 Axes>"
      ]
     },
     "metadata": {
      "needs_background": "light"
     },
     "output_type": "display_data"
    }
   ],
   "source": [
    "s8_2 = pd.crosstab(df_merged_s4['region'], df_merged_s4['age_group'], dropna = False)\n",
    "\n",
    "fig_s8_2 = s8_2.plot.bar(rot = 0,\n",
    "                        xlabel = 'Region',\n",
    "                        ylabel = 'Total Orders',\n",
    "                        figsize = (10,5),\n",
    "                        fontsize = 12,\n",
    "                        title = \"Orders for Each Region based on Age Groups\")"
   ]
  },
  {
   "cell_type": "code",
   "execution_count": 17,
   "metadata": {
    "ExecuteTime": {
     "end_time": "2021-07-16T03:32:17.628764Z",
     "start_time": "2021-07-16T03:32:14.078105Z"
    },
    "scrolled": false
   },
   "outputs": [
    {
     "data": {
      "image/png": "[encoded data removed]",
      "text/plain": [
       "<Figure size 792x576 with 1 Axes>"
      ]
     },
     "metadata": {
      "needs_background": "light"
     },
     "output_type": "display_data"
    }
   ],
   "source": [
    "s8_3 = pd.crosstab(df_merged_s4['region'], df_merged_s4['customers_median_daytime'], dropna = False)\n",
    "\n",
    "fig_s8_3 = s8_3.plot.bar(rot = 0,\n",
    "                        xlabel = 'Region',\n",
    "                        ylabel = 'Total Orders',\n",
    "                        figsize = (11,8),\n",
    "                        fontsize = 12,\n",
    "                        title = \"Orders for Each Region Compared with Customers Median Time for Shopping\")"
   ]
  },
  {
   "cell_type": "code",
   "execution_count": 13,
   "metadata": {
    "ExecuteTime": {
     "end_time": "2021-07-16T03:27:59.458873Z",
     "start_time": "2021-07-16T03:27:56.198644Z"
    },
    "scrolled": false
   },
   "outputs": [
    {
     "data": {
      "image/png": "[encoded data removed]",
      "text/plain": [
       "<Figure size 792x576 with 1 Axes>"
      ]
     },
     "metadata": {
      "needs_background": "light"
     },
     "output_type": "display_data"
    }
   ],
   "source": [
    "s8_4 = pd.crosstab(df_merged_s4['region'], df_merged_s4['parental_status'], dropna = False)\n",
    "\n",
    "fig_s8_4 = s8_4.plot.bar(rot = 0,\n",
    "                        xlabel = 'Region',\n",
    "                        ylabel = 'Total Orders',\n",
    "                        figsize = (11,8),\n",
    "                        fontsize = 12,\n",
    "                        title = \"Orders for Each Region Compared with Parental Status\")"
   ]
  },
  {
   "cell_type": "code",
   "execution_count": 20,
   "metadata": {
    "ExecuteTime": {
     "end_time": "2021-07-16T03:35:08.782546Z",
     "start_time": "2021-07-16T03:35:05.188269Z"
    },
    "scrolled": false
   },
   "outputs": [
    {
     "data": {
      "image/png": "[encoded data removed]",
      "text/plain": [
       "<Figure size 1152x720 with 1 Axes>"
      ]
     },
     "metadata": {
      "needs_background": "light"
     },
     "output_type": "display_data"
    }
   ],
   "source": [
    "s8_5 = pd.crosstab(df_merged_s4['department'], df_merged_s4['income_levels'], dropna = False)\n",
    "\n",
    "\n",
    "fig_s8_5 = s8_5.plot.bar(rot = 45,\n",
    "                        xlabel = 'Department',\n",
    "                        ylabel = 'Total Orders',\n",
    "                        figsize = (16,10),\n",
    "                        fontsize = 11,\n",
    "                        title = \"Orders for Each Department compared with Income Levels\")"
   ]
  },
  {
   "cell_type": "code",
   "execution_count": 21,
   "metadata": {
    "ExecuteTime": {
     "end_time": "2021-07-16T03:39:09.779325Z",
     "start_time": "2021-07-16T03:39:06.153126Z"
    }
   },
   "outputs": [
    {
     "data": {
      "image/png": "[encoded data removed]",
      "text/plain": [
       "<Figure size 1152x720 with 1 Axes>"
      ]
     },
     "metadata": {
      "needs_background": "light"
     },
     "output_type": "display_data"
    }
   ],
   "source": [
    "s8_6 = pd.crosstab(df_merged_s4['department'], df_merged_s4['age_group'], dropna = False)\n",
    "\n",
    "fig_s8_6 = s8_6.plot.bar(rot = 45,\n",
    "                        xlabel = 'Department',\n",
    "                        ylabel = 'Total Orders',\n",
    "                        figsize = (16,10),\n",
    "                        fontsize = 11,\n",
    "                        title = \"Orders for Each Department compared with Age Groups\")"
   ]
  },
  {
   "cell_type": "code",
   "execution_count": 22,
   "metadata": {
    "ExecuteTime": {
     "end_time": "2021-07-16T03:43:44.346901Z",
     "start_time": "2021-07-16T03:43:40.487878Z"
    },
    "scrolled": false
   },
   "outputs": [
    {
     "data": {
      "image/png": "[encoded data removed]",
      "text/plain": [
       "<Figure size 1152x720 with 1 Axes>"
      ]
     },
     "metadata": {
      "needs_background": "light"
     },
     "output_type": "display_data"
    }
   ],
   "source": [
    "s8_7 = pd.crosstab(df_merged_s4['department'], df_merged_s4['customers_median_daytime'], dropna = False)\n",
    "\n",
    "fig_s8_7 = s8_7.plot.bar(rot = 45,\n",
    "                        xlabel = 'Department',\n",
    "                        ylabel = 'Total Orders',\n",
    "                        figsize = (16,10),\n",
    "                        fontsize = 11,\n",
    "                        title = \"Orders for Each Department with Customers Median Time for Shopping\")"
   ]
  },
  {
   "cell_type": "code",
   "execution_count": 31,
   "metadata": {
    "ExecuteTime": {
     "end_time": "2021-07-16T06:29:08.785230Z",
     "start_time": "2021-07-16T06:29:05.314028Z"
    },
    "scrolled": false
   },
   "outputs": [
    {
     "data": {
      "image/png": "[encoded data removed]",
      "text/plain": [
       "<Figure size 1152x720 with 1 Axes>"
      ]
     },
     "metadata": {
      "needs_background": "light"
     },
     "output_type": "display_data"
    }
   ],
   "source": [
    "s8_8 = pd.crosstab(df_merged_s4['department'], df_merged_s4['parental_status'], dropna = False)\n",
    "\n",
    "fig_s8_8 = s8_8.plot.bar(rot = 45,\n",
    "                        xlabel = 'Department',\n",
    "                        ylabel = 'Total Orders',\n",
    "                        figsize = (16,10),\n",
    "                        fontsize = 11,\n",
    "                        title = \"Orders for Each Department Compared to Parental Status\")"
   ]
  },
  {
   "cell_type": "markdown",
   "metadata": {},
   "source": [
    "### Exports"
   ]
  },
  {
   "cell_type": "code",
   "execution_count": 32,
   "metadata": {
    "ExecuteTime": {
     "end_time": "2021-07-16T06:29:28.454213Z",
     "start_time": "2021-07-16T06:29:27.567905Z"
    }
   },
   "outputs": [],
   "source": [
    "# export figures relevant to business questions\n",
    "\n",
    "fig_income.figure.savefig(os.path.join(path,'04 Analysis','Visualizations', 'fig_income.png'))\n",
    "fig_age.figure.savefig(os.path.join(path,'04 Analysis','Visualizations', 'fig_age.png'))\n",
    "fig_parent.figure.savefig(os.path.join(path,'04 Analysis','Visualizations', 'fig_age.png'))\n",
    "fig_s8_1.figure.savefig(os.path.join(path,'04 Analysis','Visualizations', 'Q5-region and income levels.png'))\n",
    "fig_s8_2.figure.savefig(os.path.join(path,'04 Analysis','Visualizations', 'Q5-region and age group.png'))\n",
    "fig_s8_3.figure.savefig(os.path.join(path,'04 Analysis','Visualizations', 'Q5-region and time of daty customers.png'))\n",
    "fig_s8_4.figure.savefig(os.path.join(path,'04 Analysis','Visualizations', 'Q5-region and parental status.png'))\n",
    "fig_s8_5.figure.savefig(os.path.join(path,'04 Analysis','Visualizations', 'Q5-department and income levels.png'))\n",
    "fig_s8_6.figure.savefig(os.path.join(path,'04 Analysis','Visualizations', 'Q5-department and age group.png'))\n",
    "fig_s8_7.figure.savefig(os.path.join(path,'04 Analysis','Visualizations', 'Q5-department and time of daty customers.png'))\n",
    "fig_s8_8.figure.savefig(os.path.join(path,'04 Analysis','Visualizations', 'Q5-department and parental status.png'))"
   ]
  }
 ],
 "metadata": {
  "kernelspec": {
   "display_name": "Python 3",
   "language": "python",
   "name": "python3"
  },
  "language_info": {
   "codemirror_mode": {
    "name": "ipython",
    "version": 3
   },
   "file_extension": ".py",
   "mimetype": "text/x-python",
   "name": "python",
   "nbconvert_exporter": "python",
   "pygments_lexer": "ipython3",
   "version": "3.8.5"
  },
  "varInspector": {
   "cols": {
    "lenName": 16,
    "lenType": 16,
    "lenVar": 40
   },
   "kernels_config": {
    "python": {
     "delete_cmd_postfix": "",
     "delete_cmd_prefix": "del ",
     "library": "var_list.py",
     "varRefreshCmd": "print(var_dic_list())"
    },
    "r": {
     "delete_cmd_postfix": ") ",
     "delete_cmd_prefix": "rm(",
     "library": "var_list.r",
     "varRefreshCmd": "cat(var_dic_list()) "
    }
   },
   "oldHeight": 302.96878,
   "position": {
    "height": "40px",
    "left": "1063.33px",
    "right": "20px",
    "top": "120px",
    "width": "250px"
   },
   "types_to_exclude": [
    "module",
    "function",
    "builtin_function_or_method",
    "instance",
    "_Feature"
   ],
   "varInspector_section_display": "none",
   "window_display": false
  }
 },
 "nbformat": 4,
 "nbformat_minor": 4
}
